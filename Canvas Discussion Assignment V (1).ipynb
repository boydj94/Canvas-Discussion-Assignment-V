{
 "cells": [
  {
   "cell_type": "markdown",
   "metadata": {},
   "source": [
    "#  Evaluating the Influence of Hidden Layer Size Adjustments on Multi-Layer Perceptron Classification"
   ]
  },
  {
   "cell_type": "markdown",
   "metadata": {},
   "source": [
    "# By James Boyd"
   ]
  },
  {
   "cell_type": "markdown",
   "metadata": {},
   "source": [
    "Setup"
   ]
  },
  {
   "cell_type": "code",
   "execution_count": 10,
   "metadata": {},
   "outputs": [],
   "source": [
    "import run_test"
   ]
  },
  {
   "cell_type": "code",
   "execution_count": 11,
   "metadata": {},
   "outputs": [],
   "source": [
    "import numpy as np\n",
    "import pandas as pd\n",
    "\n",
    "class BinaryClassificationPerformance():\n",
    "    '''Performance measures to evaluate the fit of a binary classification model, v1.02'''\n",
    "    \n",
    "    def __init__(self, predictions, labels, desc, probabilities=None):\n",
    "        '''Initialize attributes: predictions-vector of predicted values for Y, labels-vector of labels for Y'''\n",
    "        '''probabilities-optional, probability that Y is equal to True'''\n",
    "        self.probabilities = probabilities\n",
    "        self.performance_df = pd.concat([pd.DataFrame(predictions), pd.DataFrame(labels).reset_index(drop=True)], axis=1, ignore_index=True)\n",
    "        self.performance_df.columns = ['preds', 'labls']\n",
    "        self.desc = desc\n",
    "        self.performance_measures = {}\n",
    "        self.image_indices = {}\n",
    "  \n",
    "    def compute_measures(self):\n",
    "        '''Compute performance measures defined by Flach p. 57'''\n",
    "        self.performance_measures['Pos'] = self.performance_df['labls'].sum()\n",
    "        self.performance_measures['Neg'] = self.performance_df['labls'].shape[0] - self.performance_df['labls'].sum()\n",
    "        self.performance_measures['TP'] = ((self.performance_df['preds'] == True) & (self.performance_df['labls'] == True)).sum()\n",
    "        self.performance_measures['TN'] = ((self.performance_df['preds'] == False) & (self.performance_df['labls'] == False)).sum()\n",
    "        self.performance_measures['FP'] = ((self.performance_df['preds'] == True) & (self.performance_df['labls'] == False)).sum()\n",
    "        self.performance_measures['FN'] = ((self.performance_df['preds'] == False) & (self.performance_df['labls'] == True)).sum()\n",
    "        self.performance_measures['Accuracy'] = (self.performance_measures['TP'] + self.performance_measures['TN']) / (self.performance_measures['Pos'] + self.performance_measures['Neg'])\n",
    "        self.performance_measures['Precision'] = self.performance_measures['TP'] / (self.performance_measures['TP'] + self.performance_measures['FP'])\n",
    "        self.performance_measures['Recall'] = self.performance_measures['TP'] / self.performance_measures['Pos']\n",
    "        self.performance_measures['desc'] = self.desc\n",
    "\n",
    "    def img_indices(self):\n",
    "        '''Get the indices of true and false positives to be able to locate the corresponding images in a list of image names'''\n",
    "        self.performance_df['tp_ind'] = ((self.performance_df['preds'] == True) & (self.performance_df['labls'] == True))\n",
    "        self.performance_df['fp_ind'] = ((self.performance_df['preds'] == True) & (self.performance_df['labls'] == False))\n",
    "        self.image_indices['TP_indices'] = np.where(self.performance_df['tp_ind']==True)[0].tolist()\n",
    "        self.image_indices['FP_indices'] = np.where(self.performance_df['fp_ind']==True)[0].tolist()"
   ]
  },
  {
   "cell_type": "code",
   "execution_count": 12,
   "metadata": {},
   "outputs": [],
   "source": [
    "import matplotlib.pyplot as plt\n",
    "import pickle\n",
    "import warnings\n",
    "warnings.filterwarnings(\"ignore\", message=\"numpy.ufunc size changed\")\n",
    "from skimage import io, color, transform, feature\n",
    "from my_measures import BinaryClassificationPerformance  \n",
    "from sklearn.model_selection import train_test_split\n",
    "%matplotlib inline\n",
    "\n"
   ]
  },
  {
   "cell_type": "code",
   "execution_count": 14,
   "metadata": {},
   "outputs": [
    {
     "name": "stdout",
     "output_type": "stream",
     "text": [
      "Help on class BinaryClassificationPerformance in module my_measures:\n",
      "\n",
      "class BinaryClassificationPerformance(builtins.object)\n",
      " |  BinaryClassificationPerformance(predictions, labels, desc, probabilities=None)\n",
      " |  \n",
      " |  Performance measures to evaluate the fit of a binary classification model, v1.03\n",
      " |  \n",
      " |  Methods defined here:\n",
      " |  \n",
      " |  __init__(self, predictions, labels, desc, probabilities=None)\n",
      " |      Initialize attributes: predictions-vector of predicted values for Y, labels-vector of labels for Y\n",
      " |  \n",
      " |  compute_measures(self)\n",
      " |      Compute performance measures defined by Flach p. 57\n",
      " |  \n",
      " |  img_indices(self)\n",
      " |      Get the indices of true and false positives to be able to locate the corresponding images in a list of image names\n",
      " |  \n",
      " |  ----------------------------------------------------------------------\n",
      " |  Data descriptors defined here:\n",
      " |  \n",
      " |  __dict__\n",
      " |      dictionary for instance variables (if defined)\n",
      " |  \n",
      " |  __weakref__\n",
      " |      list of weak references to the object (if defined)\n",
      "\n"
     ]
    }
   ],
   "source": [
    "help(BinaryClassificationPerformance)\n"
   ]
  },
  {
   "cell_type": "code",
   "execution_count": 15,
   "metadata": {},
   "outputs": [],
   "source": [
    "ci_path = 'Desktop/ml/final_assignment_2/plane_data/cropped_images/' # file path for cropped images for training\n",
    "l_file = 'Desktop/ml/final_assignment_2/plane_data/plane_labels.csv' # file path and file name for csv with labels\n"
   ]
  },
  {
   "cell_type": "markdown",
   "metadata": {},
   "source": [
    "Feature Building and Extraction with Hysteresis Thresholding Representation"
   ]
  },
  {
   "cell_type": "code",
   "execution_count": 16,
   "metadata": {},
   "outputs": [],
   "source": [
    "# in downscaling the image, what do you want the new dimensions to be?\n",
    "# the original dimensions of cropped images: (60, 140), which if 8,400 pixels\n",
    "dims = (15, 35) # 25% of the original size, 525 pixels"
   ]
  },
  {
   "cell_type": "code",
   "execution_count": 36,
   "metadata": {},
   "outputs": [
    {
     "name": "stdout",
     "output_type": "stream",
     "text": [
      "downscaled image shape: \n",
      "(15, 35)\n",
      "image representation (first row of pixels): \n",
      "[False False False False False False False False False False False False\n",
      " False False False False False False False False False False False False\n",
      " False False False False False False False False False False False]\n",
      "\n",
      "\n",
      "example of transformation: \n"
     ]
    },
    {
     "data": {
      "image/png": "[encoded data removed]",
      "text/plain": [
       "<Figure size 432x288 with 1 Axes>"
      ]
     },
     "metadata": {
      "needs_background": "light"
     },
     "output_type": "display_data"
    }
   ],
   "source": [
    "import matplotlib.pyplot as plt\n",
    "from skimage import filters\n",
    "def image_manipulation(imname, imgs_path, imview=False):\n",
    "    warnings.filterwarnings('ignore')\n",
    "    imname = imgs_path + imname + '.png'\n",
    "    img_raw = io.imread(imname, as_gray=True)\n",
    "    downscaled = transform.resize(img_raw, (dims[0], dims[1])) # downscale image\n",
    "    low = 0.3\n",
    "    high = 0.7\n",
    "    final_image = filters.apply_hysteresis_threshold(downscaled, low, high) # hysteresis thresholding\n",
    "    if imview==True:\n",
    "        io.imshow(final_image)\n",
    "    warnings.filterwarnings('always')\n",
    "    return final_image\n",
    "\n",
    "# test the function, look at input/output\n",
    "test_image = image_manipulation('2017-08-25T23+24+13_390Z', ci_path, True)\n",
    "print('downscaled image shape: ')\n",
    "print(test_image.shape)\n",
    "print('image representation (first row of pixels): ')\n",
    "print(test_image[0])\n",
    "print('\\n')\n",
    "print('example of transformation: ')"
   ]
  },
  {
   "cell_type": "code",
   "execution_count": 20,
   "metadata": {},
   "outputs": [],
   "source": [
    "# function that takes raw images and completes all preprocessing required before model fits\n",
    "def process_raw_data(labels_fn, images_fp, my_random_seed, imview=False, test=False):\n",
    "    plane_data = pd.read_csv(labels_fn) # read in photograph labels\n",
    "    print(\"First few lines of image labels: \")\n",
    "    print(plane_data.head())\n",
    "    print(\"Size of image label dataFrame: \")\n",
    "    print(plane_data.shape)\n",
    "        \n",
    "    # construct lists for features, labels, and a crosswalk reference to image names\n",
    "    features_list = []\n",
    "    if (not test):\n",
    "        y_list = []\n",
    "    imnames_list = []\n",
    "\n",
    "    for index, row in plane_data.iterrows():\n",
    "        features_list.append(image_manipulation(row['img_name'], images_fp))\n",
    "        if (not test):\n",
    "            y_list.append(row['plane'])\n",
    "        imnames_list.append(row['img_name'])\n",
    "    \n",
    "    # convert the lists to ndarrays\n",
    "    features = np.asarray(features_list)\n",
    "    if (not test):\n",
    "        Y = np.asarray(y_list)\n",
    "    imgs = np.asarray(imnames_list)\n",
    "    print('Shape of original feature representation: ')\n",
    "    print(features.shape)\n",
    "\n",
    "    # flatten the images ndarray to one row per image\n",
    "    features_flat = features.reshape((features.shape[0], -1))\n",
    "\n",
    "    print('Shape of flat feature representation: ')\n",
    "    print(features_flat.shape)\n",
    "\n",
    "    if (not test):\n",
    "        print('Shape of Y: ')\n",
    "        print(Y.shape)\n",
    "\n",
    "        print('Number of images with planes: ')\n",
    "        print(Y.sum())\n",
    "    \n",
    "        # create train and test sets\n",
    "        data_train, data_test, y_train, y_test, imgs_train, imgs_test = train_test_split(features_flat, \n",
    "            Y, imgs, test_size = 0.25, random_state = my_random_seed)\n",
    "\n",
    "        print('Shape of training set: ')\n",
    "        print(y_train.shape)\n",
    "        print('Number of training images that contain an airplane: ')\n",
    "        print(y_train.sum())\n",
    "\n",
    "        print('Shape of test set: ')\n",
    "        print(y_test.shape)\n",
    "        print('Number of test images that contain an airplane: ')\n",
    "        print(y_test.sum())\n",
    "    \n",
    "    if (test):\n",
    "        X_submission_test = features_flat\n",
    "        print(\"Shape of X_test for submission:\")\n",
    "        print(X_submission_test.shape)\n",
    "        print('SUCCESS!')\n",
    "        return(X_submission_test, plane_data)\n",
    "    else: \n",
    "        print(\"Shape of data_train and data_test:\")\n",
    "        print(data_train.shape)\n",
    "        print(data_test.shape)\n",
    "        print(\"Shape of y_train and y_test:\")\n",
    "        print(y_train.shape)\n",
    "        print(y_test.shape)\n",
    "        print(\"Shape of imgs_train and imgs_test:\")\n",
    "        print(imgs_train.shape)\n",
    "        print(imgs_test.shape)\n",
    "        print('SUCCESS!')\n",
    "        return(data_train, data_test, y_train, y_test, imgs_train, imgs_test)"
   ]
  },
  {
   "cell_type": "code",
   "execution_count": 37,
   "metadata": {},
   "outputs": [
    {
     "name": "stdout",
     "output_type": "stream",
     "text": [
      "First few lines of image labels: \n",
      "                   img_name  plane\n",
      "0  2016-08-02T13+50+24_430Z  False\n",
      "1  2016-08-02T14+12+37_390Z  False\n",
      "2  2016-08-02T22+20+26_600Z  False\n",
      "3  2016-08-03T12+04+30_670Z  False\n",
      "4  2016-08-03T12+32+21_790Z  False\n",
      "Size of image label dataFrame: \n",
      "(6758, 2)\n",
      "Shape of original feature representation: \n",
      "(6758, 15, 35)\n",
      "Shape of flat feature representation: \n",
      "(6758, 525)\n",
      "Shape of Y: \n",
      "(6758,)\n",
      "Number of images with planes: \n",
      "101\n",
      "Shape of training set: \n",
      "(5068,)\n",
      "Number of training images that contain an airplane: \n",
      "82\n",
      "Shape of test set: \n",
      "(1690,)\n",
      "Number of test images that contain an airplane: \n",
      "19\n",
      "Shape of data_train and data_test:\n",
      "(5068, 525)\n",
      "(1690, 525)\n",
      "Shape of y_train and y_test:\n",
      "(5068,)\n",
      "(1690,)\n",
      "Shape of imgs_train and imgs_test:\n",
      "(5068,)\n",
      "(1690,)\n",
      "SUCCESS!\n"
     ]
    }
   ],
   "source": [
    "data_train, data_test, y_train, y_test, imgs_train, imgs_test = process_raw_data(l_file, ci_path, \n",
    "    my_random_seed=20, imview=False, test=False)"
   ]
  },
  {
   "cell_type": "code",
   "execution_count": 38,
   "metadata": {},
   "outputs": [],
   "source": [
    "def performance_examples(typ, measures):\n",
    "    iiv = ''\n",
    "    if typ == 'FP':\n",
    "        iiv = typ + '_indices'\n",
    "    elif typ == 'TP':\n",
    "        iiv = typ + '_indices'\n",
    "    elif typ == 'FN':\n",
    "        iiv = typ + '_indices'\n",
    "    else:\n",
    "        raise ValueError('input must be \"TP\", \"FP\", or \"FN\"')\n",
    "    for img in measures[iiv]:\n",
    "        warnings.filterwarnings('ignore')    \n",
    "        plt.figure()\n",
    "        lookat = ci_path + imgs_test[img] + '.png' # location of original image\n",
    "        io.imshow(lookat) # show original image\n",
    "        plt.figure()\n",
    "        io.imshow(data_test[img].reshape(dims[0], dims[1])) # show manipulation for feature representation\n",
    "        warnings.filterwarnings('always')"
   ]
  },
  {
   "cell_type": "markdown",
   "metadata": {},
   "source": [
    "62 Trials with HLS Adjustments:"
   ]
  },
  {
   "cell_type": "code",
   "execution_count": 106,
   "metadata": {},
   "outputs": [
    {
     "name": "stdout",
     "output_type": "stream",
     "text": [
      "MLPClassifier(hidden_layer_sizes=(100, 100, 100, 100), max_iter=1000)\n",
      "TRAINING SET: \n",
      "{'Pos': 82, 'Neg': 4986, 'TP': 46, 'TN': 4986, 'FP': 0, 'FN': 36, 'Accuracy': 0.9928966061562746, 'Precision': 1.0, 'Recall': 0.5609756097560976, 'desc': 'nn', 'set': 'train'}\n",
      "TEST SET: \n",
      "{'Pos': 19, 'Neg': 1671, 'TP': 12, 'TN': 1668, 'FP': 3, 'FN': 7, 'Accuracy': 0.9940828402366864, 'Precision': 0.8, 'Recall': 0.631578947368421, 'desc': 'nn_test', 'set': 'test'}\n"
     ]
    }
   ],
   "source": [
    "# MODEL: Multi-layer Perceptron aka neural network\n",
    "from sklearn import neural_network\n",
    "nn = neural_network.MLPClassifier(hidden_layer_sizes=(100,100,100,100, ), max_iter=1000)\n",
    "\n",
    "print(nn)\n",
    "nn.fit(data_train, y_train)\n",
    "\n",
    "\n",
    "nn_performance_4 = BinaryClassificationPerformance(nn.predict(data_train), y_train, 'nn')\n",
    "nn_performance_4.compute_measures()\n",
    "nn_performance_4.performance_measures['set'] = 'train'\n",
    "print('TRAINING SET: ')\n",
    "print(nn_performance_4.performance_measures)\n",
    "\n",
    "nn_performance_test_4 = BinaryClassificationPerformance(nn.predict(data_test), y_test, 'nn_test')\n",
    "nn_performance_test_4.compute_measures()\n",
    "nn_performance_test_4.performance_measures['set'] = 'test'\n",
    "print('TEST SET: ')\n",
    "print(nn_performance_test_4.performance_measures)\n",
    "\n",
    "nn_performance_test_4.img_indices()\n",
    "nn_img_indices_to_view_4 = nn_performance_test_4.image_indices"
   ]
  },
  {
   "cell_type": "code",
   "execution_count": 107,
   "metadata": {},
   "outputs": [
    {
     "name": "stdout",
     "output_type": "stream",
     "text": [
      "MLPClassifier(hidden_layer_sizes=(100, 100, 100, 80), max_iter=1000)\n",
      "TRAINING SET: \n",
      "{'Pos': 82, 'Neg': 4986, 'TP': 45, 'TN': 4986, 'FP': 0, 'FN': 37, 'Accuracy': 0.9926992896606156, 'Precision': 1.0, 'Recall': 0.5487804878048781, 'desc': 'nn', 'set': 'train'}\n",
      "TEST SET: \n",
      "{'Pos': 19, 'Neg': 1671, 'TP': 12, 'TN': 1665, 'FP': 6, 'FN': 7, 'Accuracy': 0.9923076923076923, 'Precision': 0.6666666666666666, 'Recall': 0.631578947368421, 'desc': 'nn_test', 'set': 'test'}\n"
     ]
    }
   ],
   "source": [
    "# MODEL: Multi-layer Perceptron aka neural network\n",
    "from sklearn import neural_network\n",
    "nn = neural_network.MLPClassifier(hidden_layer_sizes=(100,100,100,80, ), max_iter=1000)\n",
    "\n",
    "print(nn)\n",
    "nn.fit(data_train, y_train)\n",
    "\n",
    "\n",
    "nn_performance_4 = BinaryClassificationPerformance(nn.predict(data_train), y_train, 'nn')\n",
    "nn_performance_4.compute_measures()\n",
    "nn_performance_4.performance_measures['set'] = 'train'\n",
    "print('TRAINING SET: ')\n",
    "print(nn_performance_4.performance_measures)\n",
    "\n",
    "nn_performance_test_4 = BinaryClassificationPerformance(nn.predict(data_test), y_test, 'nn_test')\n",
    "nn_performance_test_4.compute_measures()\n",
    "nn_performance_test_4.performance_measures['set'] = 'test'\n",
    "print('TEST SET: ')\n",
    "print(nn_performance_test_4.performance_measures)\n",
    "\n",
    "nn_performance_test_4.img_indices()\n",
    "nn_img_indices_to_view_4 = nn_performance_test_4.image_indices"
   ]
  },
  {
   "cell_type": "code",
   "execution_count": 108,
   "metadata": {},
   "outputs": [
    {
     "name": "stdout",
     "output_type": "stream",
     "text": [
      "MLPClassifier(hidden_layer_sizes=(100, 100, 80, 80), max_iter=1000)\n",
      "TRAINING SET: \n",
      "{'Pos': 82, 'Neg': 4986, 'TP': 49, 'TN': 4986, 'FP': 0, 'FN': 33, 'Accuracy': 0.9934885556432518, 'Precision': 1.0, 'Recall': 0.5975609756097561, 'desc': 'nn', 'set': 'train'}\n",
      "TEST SET: \n",
      "{'Pos': 19, 'Neg': 1671, 'TP': 11, 'TN': 1668, 'FP': 3, 'FN': 8, 'Accuracy': 0.993491124260355, 'Precision': 0.7857142857142857, 'Recall': 0.5789473684210527, 'desc': 'nn_test', 'set': 'test'}\n"
     ]
    }
   ],
   "source": [
    "# MODEL: Multi-layer Perceptron aka neural network\n",
    "from sklearn import neural_network\n",
    "nn = neural_network.MLPClassifier(hidden_layer_sizes=(100,100,80,80, ), max_iter=1000)\n",
    "\n",
    "print(nn)\n",
    "nn.fit(data_train, y_train)\n",
    "\n",
    "\n",
    "nn_performance_4 = BinaryClassificationPerformance(nn.predict(data_train), y_train, 'nn')\n",
    "nn_performance_4.compute_measures()\n",
    "nn_performance_4.performance_measures['set'] = 'train'\n",
    "print('TRAINING SET: ')\n",
    "print(nn_performance_4.performance_measures)\n",
    "\n",
    "nn_performance_test_4 = BinaryClassificationPerformance(nn.predict(data_test), y_test, 'nn_test')\n",
    "nn_performance_test_4.compute_measures()\n",
    "nn_performance_test_4.performance_measures['set'] = 'test'\n",
    "print('TEST SET: ')\n",
    "print(nn_performance_test_4.performance_measures)\n",
    "\n",
    "nn_performance_test_4.img_indices()\n",
    "nn_img_indices_to_view_4 = nn_performance_test_4.image_indices"
   ]
  },
  {
   "cell_type": "code",
   "execution_count": 109,
   "metadata": {},
   "outputs": [
    {
     "name": "stdout",
     "output_type": "stream",
     "text": [
      "MLPClassifier(hidden_layer_sizes=(100, 80, 80, 80), max_iter=1000)\n",
      "TRAINING SET: \n",
      "{'Pos': 82, 'Neg': 4986, 'TP': 48, 'TN': 4986, 'FP': 0, 'FN': 34, 'Accuracy': 0.9932912391475928, 'Precision': 1.0, 'Recall': 0.5853658536585366, 'desc': 'nn', 'set': 'train'}\n",
      "TEST SET: \n",
      "{'Pos': 19, 'Neg': 1671, 'TP': 10, 'TN': 1669, 'FP': 2, 'FN': 9, 'Accuracy': 0.993491124260355, 'Precision': 0.8333333333333334, 'Recall': 0.5263157894736842, 'desc': 'nn_test', 'set': 'test'}\n"
     ]
    }
   ],
   "source": [
    "# MODEL: Multi-layer Perceptron aka neural network\n",
    "from sklearn import neural_network\n",
    "nn = neural_network.MLPClassifier(hidden_layer_sizes=(100,80,80,80, ), max_iter=1000)\n",
    "\n",
    "print(nn)\n",
    "nn.fit(data_train, y_train)\n",
    "\n",
    "\n",
    "nn_performance_4 = BinaryClassificationPerformance(nn.predict(data_train), y_train, 'nn')\n",
    "nn_performance_4.compute_measures()\n",
    "nn_performance_4.performance_measures['set'] = 'train'\n",
    "print('TRAINING SET: ')\n",
    "print(nn_performance_4.performance_measures)\n",
    "\n",
    "nn_performance_test_4 = BinaryClassificationPerformance(nn.predict(data_test), y_test, 'nn_test')\n",
    "nn_performance_test_4.compute_measures()\n",
    "nn_performance_test_4.performance_measures['set'] = 'test'\n",
    "print('TEST SET: ')\n",
    "print(nn_performance_test_4.performance_measures)\n",
    "\n",
    "nn_performance_test_4.img_indices()\n",
    "nn_img_indices_to_view_4 = nn_performance_test_4.image_indices"
   ]
  },
  {
   "cell_type": "code",
   "execution_count": 110,
   "metadata": {},
   "outputs": [
    {
     "name": "stdout",
     "output_type": "stream",
     "text": [
      "MLPClassifier(hidden_layer_sizes=(80, 80, 80, 80), max_iter=1000)\n",
      "TRAINING SET: \n",
      "{'Pos': 82, 'Neg': 4986, 'TP': 46, 'TN': 4986, 'FP': 0, 'FN': 36, 'Accuracy': 0.9928966061562746, 'Precision': 1.0, 'Recall': 0.5609756097560976, 'desc': 'nn', 'set': 'train'}\n",
      "TEST SET: \n",
      "{'Pos': 19, 'Neg': 1671, 'TP': 11, 'TN': 1670, 'FP': 1, 'FN': 8, 'Accuracy': 0.9946745562130177, 'Precision': 0.9166666666666666, 'Recall': 0.5789473684210527, 'desc': 'nn_test', 'set': 'test'}\n"
     ]
    }
   ],
   "source": [
    "# MODEL: Multi-layer Perceptron aka neural network\n",
    "from sklearn import neural_network\n",
    "nn = neural_network.MLPClassifier(hidden_layer_sizes=(80,80,80,80, ), max_iter=1000)\n",
    "\n",
    "print(nn)\n",
    "nn.fit(data_train, y_train)\n",
    "\n",
    "\n",
    "nn_performance_4 = BinaryClassificationPerformance(nn.predict(data_train), y_train, 'nn')\n",
    "nn_performance_4.compute_measures()\n",
    "nn_performance_4.performance_measures['set'] = 'train'\n",
    "print('TRAINING SET: ')\n",
    "print(nn_performance_4.performance_measures)\n",
    "\n",
    "nn_performance_test_4 = BinaryClassificationPerformance(nn.predict(data_test), y_test, 'nn_test')\n",
    "nn_performance_test_4.compute_measures()\n",
    "nn_performance_test_4.performance_measures['set'] = 'test'\n",
    "print('TEST SET: ')\n",
    "print(nn_performance_test_4.performance_measures)\n",
    "\n",
    "nn_performance_test_4.img_indices()\n",
    "nn_img_indices_to_view_4 = nn_performance_test_4.image_indices"
   ]
  },
  {
   "cell_type": "code",
   "execution_count": 111,
   "metadata": {},
   "outputs": [
    {
     "name": "stdout",
     "output_type": "stream",
     "text": [
      "MLPClassifier(hidden_layer_sizes=(80, 80, 80, 60), max_iter=1000)\n",
      "TRAINING SET: \n",
      "{'Pos': 82, 'Neg': 4986, 'TP': 46, 'TN': 4986, 'FP': 0, 'FN': 36, 'Accuracy': 0.9928966061562746, 'Precision': 1.0, 'Recall': 0.5609756097560976, 'desc': 'nn', 'set': 'train'}\n",
      "TEST SET: \n",
      "{'Pos': 19, 'Neg': 1671, 'TP': 13, 'TN': 1668, 'FP': 3, 'FN': 6, 'Accuracy': 0.9946745562130177, 'Precision': 0.8125, 'Recall': 0.6842105263157895, 'desc': 'nn_test', 'set': 'test'}\n"
     ]
    }
   ],
   "source": [
    "# MODEL: Multi-layer Perceptron aka neural network\n",
    "from sklearn import neural_network\n",
    "nn = neural_network.MLPClassifier(hidden_layer_sizes=(80,80,80,60, ), max_iter=1000)\n",
    "\n",
    "print(nn)\n",
    "nn.fit(data_train, y_train)\n",
    "\n",
    "\n",
    "nn_performance_4 = BinaryClassificationPerformance(nn.predict(data_train), y_train, 'nn')\n",
    "nn_performance_4.compute_measures()\n",
    "nn_performance_4.performance_measures['set'] = 'train'\n",
    "print('TRAINING SET: ')\n",
    "print(nn_performance_4.performance_measures)\n",
    "\n",
    "nn_performance_test_4 = BinaryClassificationPerformance(nn.predict(data_test), y_test, 'nn_test')\n",
    "nn_performance_test_4.compute_measures()\n",
    "nn_performance_test_4.performance_measures['set'] = 'test'\n",
    "print('TEST SET: ')\n",
    "print(nn_performance_test_4.performance_measures)\n",
    "\n",
    "nn_performance_test_4.img_indices()\n",
    "nn_img_indices_to_view_4 = nn_performance_test_4.image_indices"
   ]
  },
  {
   "cell_type": "code",
   "execution_count": 112,
   "metadata": {},
   "outputs": [
    {
     "name": "stdout",
     "output_type": "stream",
     "text": [
      "MLPClassifier(hidden_layer_sizes=(80, 80, 60, 60), max_iter=1000)\n",
      "TRAINING SET: \n",
      "{'Pos': 82, 'Neg': 4986, 'TP': 46, 'TN': 4986, 'FP': 0, 'FN': 36, 'Accuracy': 0.9928966061562746, 'Precision': 1.0, 'Recall': 0.5609756097560976, 'desc': 'nn', 'set': 'train'}\n",
      "TEST SET: \n",
      "{'Pos': 19, 'Neg': 1671, 'TP': 10, 'TN': 1668, 'FP': 3, 'FN': 9, 'Accuracy': 0.9928994082840237, 'Precision': 0.7692307692307693, 'Recall': 0.5263157894736842, 'desc': 'nn_test', 'set': 'test'}\n"
     ]
    }
   ],
   "source": [
    "# MODEL: Multi-layer Perceptron aka neural network\n",
    "from sklearn import neural_network\n",
    "nn = neural_network.MLPClassifier(hidden_layer_sizes=(80,80,60,60, ), max_iter=1000)\n",
    "\n",
    "print(nn)\n",
    "nn.fit(data_train, y_train)\n",
    "\n",
    "\n",
    "nn_performance_4 = BinaryClassificationPerformance(nn.predict(data_train), y_train, 'nn')\n",
    "nn_performance_4.compute_measures()\n",
    "nn_performance_4.performance_measures['set'] = 'train'\n",
    "print('TRAINING SET: ')\n",
    "print(nn_performance_4.performance_measures)\n",
    "\n",
    "nn_performance_test_4 = BinaryClassificationPerformance(nn.predict(data_test), y_test, 'nn_test')\n",
    "nn_performance_test_4.compute_measures()\n",
    "nn_performance_test_4.performance_measures['set'] = 'test'\n",
    "print('TEST SET: ')\n",
    "print(nn_performance_test_4.performance_measures)\n",
    "\n",
    "nn_performance_test_4.img_indices()\n",
    "nn_img_indices_to_view_4 = nn_performance_test_4.image_indices"
   ]
  },
  {
   "cell_type": "code",
   "execution_count": 113,
   "metadata": {},
   "outputs": [
    {
     "name": "stdout",
     "output_type": "stream",
     "text": [
      "MLPClassifier(hidden_layer_sizes=(80, 60, 60, 60), max_iter=1000)\n",
      "TRAINING SET: \n",
      "{'Pos': 82, 'Neg': 4986, 'TP': 46, 'TN': 4986, 'FP': 0, 'FN': 36, 'Accuracy': 0.9928966061562746, 'Precision': 1.0, 'Recall': 0.5609756097560976, 'desc': 'nn', 'set': 'train'}\n",
      "TEST SET: \n",
      "{'Pos': 19, 'Neg': 1671, 'TP': 11, 'TN': 1667, 'FP': 4, 'FN': 8, 'Accuracy': 0.9928994082840237, 'Precision': 0.7333333333333333, 'Recall': 0.5789473684210527, 'desc': 'nn_test', 'set': 'test'}\n"
     ]
    }
   ],
   "source": [
    "# MODEL: Multi-layer Perceptron aka neural network\n",
    "from sklearn import neural_network\n",
    "nn = neural_network.MLPClassifier(hidden_layer_sizes=(80,60,60,60, ), max_iter=1000)\n",
    "\n",
    "print(nn)\n",
    "nn.fit(data_train, y_train)\n",
    "\n",
    "\n",
    "nn_performance_4 = BinaryClassificationPerformance(nn.predict(data_train), y_train, 'nn')\n",
    "nn_performance_4.compute_measures()\n",
    "nn_performance_4.performance_measures['set'] = 'train'\n",
    "print('TRAINING SET: ')\n",
    "print(nn_performance_4.performance_measures)\n",
    "\n",
    "nn_performance_test_4 = BinaryClassificationPerformance(nn.predict(data_test), y_test, 'nn_test')\n",
    "nn_performance_test_4.compute_measures()\n",
    "nn_performance_test_4.performance_measures['set'] = 'test'\n",
    "print('TEST SET: ')\n",
    "print(nn_performance_test_4.performance_measures)\n",
    "\n",
    "nn_performance_test_4.img_indices()\n",
    "nn_img_indices_to_view_4 = nn_performance_test_4.image_indices"
   ]
  },
  {
   "cell_type": "code",
   "execution_count": 114,
   "metadata": {},
   "outputs": [
    {
     "name": "stdout",
     "output_type": "stream",
     "text": [
      "MLPClassifier(hidden_layer_sizes=(60, 60, 60, 60), max_iter=1000)\n",
      "TRAINING SET: \n",
      "{'Pos': 82, 'Neg': 4986, 'TP': 57, 'TN': 4986, 'FP': 0, 'FN': 25, 'Accuracy': 0.995067087608524, 'Precision': 1.0, 'Recall': 0.6951219512195121, 'desc': 'nn', 'set': 'train'}\n",
      "TEST SET: \n",
      "{'Pos': 19, 'Neg': 1671, 'TP': 13, 'TN': 1667, 'FP': 4, 'FN': 6, 'Accuracy': 0.9940828402366864, 'Precision': 0.7647058823529411, 'Recall': 0.6842105263157895, 'desc': 'nn_test', 'set': 'test'}\n"
     ]
    }
   ],
   "source": [
    "# MODEL: Multi-layer Perceptron aka neural network\n",
    "from sklearn import neural_network\n",
    "nn = neural_network.MLPClassifier(hidden_layer_sizes=(60,60,60,60, ), max_iter=1000)\n",
    "\n",
    "print(nn)\n",
    "nn.fit(data_train, y_train)\n",
    "\n",
    "\n",
    "nn_performance_4 = BinaryClassificationPerformance(nn.predict(data_train), y_train, 'nn')\n",
    "nn_performance_4.compute_measures()\n",
    "nn_performance_4.performance_measures['set'] = 'train'\n",
    "print('TRAINING SET: ')\n",
    "print(nn_performance_4.performance_measures)\n",
    "\n",
    "nn_performance_test_4 = BinaryClassificationPerformance(nn.predict(data_test), y_test, 'nn_test')\n",
    "nn_performance_test_4.compute_measures()\n",
    "nn_performance_test_4.performance_measures['set'] = 'test'\n",
    "print('TEST SET: ')\n",
    "print(nn_performance_test_4.performance_measures)\n",
    "\n",
    "nn_performance_test_4.img_indices()\n",
    "nn_img_indices_to_view_4 = nn_performance_test_4.image_indices"
   ]
  },
  {
   "cell_type": "code",
   "execution_count": 115,
   "metadata": {},
   "outputs": [
    {
     "name": "stdout",
     "output_type": "stream",
     "text": [
      "MLPClassifier(hidden_layer_sizes=(60, 60, 60, 40), max_iter=1000)\n",
      "TRAINING SET: \n",
      "{'Pos': 82, 'Neg': 4986, 'TP': 46, 'TN': 4986, 'FP': 0, 'FN': 36, 'Accuracy': 0.9928966061562746, 'Precision': 1.0, 'Recall': 0.5609756097560976, 'desc': 'nn', 'set': 'train'}\n",
      "TEST SET: \n",
      "{'Pos': 19, 'Neg': 1671, 'TP': 11, 'TN': 1670, 'FP': 1, 'FN': 8, 'Accuracy': 0.9946745562130177, 'Precision': 0.9166666666666666, 'Recall': 0.5789473684210527, 'desc': 'nn_test', 'set': 'test'}\n"
     ]
    }
   ],
   "source": [
    "# MODEL: Multi-layer Perceptron aka neural network\n",
    "from sklearn import neural_network\n",
    "nn = neural_network.MLPClassifier(hidden_layer_sizes=(60,60,60,40, ), max_iter=1000)\n",
    "\n",
    "print(nn)\n",
    "nn.fit(data_train, y_train)\n",
    "\n",
    "\n",
    "nn_performance_4 = BinaryClassificationPerformance(nn.predict(data_train), y_train, 'nn')\n",
    "nn_performance_4.compute_measures()\n",
    "nn_performance_4.performance_measures['set'] = 'train'\n",
    "print('TRAINING SET: ')\n",
    "print(nn_performance_4.performance_measures)\n",
    "\n",
    "nn_performance_test_4 = BinaryClassificationPerformance(nn.predict(data_test), y_test, 'nn_test')\n",
    "nn_performance_test_4.compute_measures()\n",
    "nn_performance_test_4.performance_measures['set'] = 'test'\n",
    "print('TEST SET: ')\n",
    "print(nn_performance_test_4.performance_measures)\n",
    "\n",
    "nn_performance_test_4.img_indices()\n",
    "nn_img_indices_to_view_4 = nn_performance_test_4.image_indices"
   ]
  },
  {
   "cell_type": "code",
   "execution_count": 116,
   "metadata": {},
   "outputs": [
    {
     "name": "stdout",
     "output_type": "stream",
     "text": [
      "MLPClassifier(hidden_layer_sizes=(60, 60, 40, 40), max_iter=1000)\n",
      "TRAINING SET: \n",
      "{'Pos': 82, 'Neg': 4986, 'TP': 44, 'TN': 4986, 'FP': 0, 'FN': 38, 'Accuracy': 0.9925019731649566, 'Precision': 1.0, 'Recall': 0.5365853658536586, 'desc': 'nn', 'set': 'train'}\n",
      "TEST SET: \n",
      "{'Pos': 19, 'Neg': 1671, 'TP': 11, 'TN': 1671, 'FP': 0, 'FN': 8, 'Accuracy': 0.9952662721893492, 'Precision': 1.0, 'Recall': 0.5789473684210527, 'desc': 'nn_test', 'set': 'test'}\n"
     ]
    }
   ],
   "source": [
    "# MODEL: Multi-layer Perceptron aka neural network\n",
    "from sklearn import neural_network\n",
    "nn = neural_network.MLPClassifier(hidden_layer_sizes=(60,60,40,40, ), max_iter=1000)\n",
    "\n",
    "print(nn)\n",
    "nn.fit(data_train, y_train)\n",
    "\n",
    "\n",
    "nn_performance_4 = BinaryClassificationPerformance(nn.predict(data_train), y_train, 'nn')\n",
    "nn_performance_4.compute_measures()\n",
    "nn_performance_4.performance_measures['set'] = 'train'\n",
    "print('TRAINING SET: ')\n",
    "print(nn_performance_4.performance_measures)\n",
    "\n",
    "nn_performance_test_4 = BinaryClassificationPerformance(nn.predict(data_test), y_test, 'nn_test')\n",
    "nn_performance_test_4.compute_measures()\n",
    "nn_performance_test_4.performance_measures['set'] = 'test'\n",
    "print('TEST SET: ')\n",
    "print(nn_performance_test_4.performance_measures)\n",
    "\n",
    "nn_performance_test_4.img_indices()\n",
    "nn_img_indices_to_view_4 = nn_performance_test_4.image_indices"
   ]
  },
  {
   "cell_type": "code",
   "execution_count": 117,
   "metadata": {},
   "outputs": [
    {
     "name": "stdout",
     "output_type": "stream",
     "text": [
      "MLPClassifier(hidden_layer_sizes=(60, 40, 40, 40), max_iter=1000)\n",
      "TRAINING SET: \n",
      "{'Pos': 82, 'Neg': 4986, 'TP': 50, 'TN': 4986, 'FP': 0, 'FN': 32, 'Accuracy': 0.9936858721389108, 'Precision': 1.0, 'Recall': 0.6097560975609756, 'desc': 'nn', 'set': 'train'}\n",
      "TEST SET: \n",
      "{'Pos': 19, 'Neg': 1671, 'TP': 12, 'TN': 1670, 'FP': 1, 'FN': 7, 'Accuracy': 0.9952662721893492, 'Precision': 0.9230769230769231, 'Recall': 0.631578947368421, 'desc': 'nn_test', 'set': 'test'}\n"
     ]
    }
   ],
   "source": [
    "# MODEL: Multi-layer Perceptron aka neural network\n",
    "from sklearn import neural_network\n",
    "nn = neural_network.MLPClassifier(hidden_layer_sizes=(60,40,40,40, ), max_iter=1000)\n",
    "\n",
    "print(nn)\n",
    "nn.fit(data_train, y_train)\n",
    "\n",
    "\n",
    "nn_performance_4 = BinaryClassificationPerformance(nn.predict(data_train), y_train, 'nn')\n",
    "nn_performance_4.compute_measures()\n",
    "nn_performance_4.performance_measures['set'] = 'train'\n",
    "print('TRAINING SET: ')\n",
    "print(nn_performance_4.performance_measures)\n",
    "\n",
    "nn_performance_test_4 = BinaryClassificationPerformance(nn.predict(data_test), y_test, 'nn_test')\n",
    "nn_performance_test_4.compute_measures()\n",
    "nn_performance_test_4.performance_measures['set'] = 'test'\n",
    "print('TEST SET: ')\n",
    "print(nn_performance_test_4.performance_measures)\n",
    "\n",
    "nn_performance_test_4.img_indices()\n",
    "nn_img_indices_to_view_4 = nn_performance_test_4.image_indices"
   ]
  },
  {
   "cell_type": "code",
   "execution_count": 118,
   "metadata": {},
   "outputs": [
    {
     "name": "stdout",
     "output_type": "stream",
     "text": [
      "MLPClassifier(hidden_layer_sizes=(40, 40, 40, 40), max_iter=1000)\n",
      "TRAINING SET: \n",
      "{'Pos': 82, 'Neg': 4986, 'TP': 51, 'TN': 4986, 'FP': 0, 'FN': 31, 'Accuracy': 0.9938831886345698, 'Precision': 1.0, 'Recall': 0.6219512195121951, 'desc': 'nn', 'set': 'train'}\n",
      "TEST SET: \n",
      "{'Pos': 19, 'Neg': 1671, 'TP': 11, 'TN': 1670, 'FP': 1, 'FN': 8, 'Accuracy': 0.9946745562130177, 'Precision': 0.9166666666666666, 'Recall': 0.5789473684210527, 'desc': 'nn_test', 'set': 'test'}\n"
     ]
    }
   ],
   "source": [
    "# MODEL: Multi-layer Perceptron aka neural network\n",
    "from sklearn import neural_network\n",
    "nn = neural_network.MLPClassifier(hidden_layer_sizes=(40,40,40,40, ), max_iter=1000)\n",
    "\n",
    "print(nn)\n",
    "nn.fit(data_train, y_train)\n",
    "\n",
    "\n",
    "nn_performance_4 = BinaryClassificationPerformance(nn.predict(data_train), y_train, 'nn')\n",
    "nn_performance_4.compute_measures()\n",
    "nn_performance_4.performance_measures['set'] = 'train'\n",
    "print('TRAINING SET: ')\n",
    "print(nn_performance_4.performance_measures)\n",
    "\n",
    "nn_performance_test_4 = BinaryClassificationPerformance(nn.predict(data_test), y_test, 'nn_test')\n",
    "nn_performance_test_4.compute_measures()\n",
    "nn_performance_test_4.performance_measures['set'] = 'test'\n",
    "print('TEST SET: ')\n",
    "print(nn_performance_test_4.performance_measures)\n",
    "\n",
    "nn_performance_test_4.img_indices()\n",
    "nn_img_indices_to_view_4 = nn_performance_test_4.image_indices"
   ]
  },
  {
   "cell_type": "code",
   "execution_count": 119,
   "metadata": {},
   "outputs": [
    {
     "name": "stdout",
     "output_type": "stream",
     "text": [
      "MLPClassifier(hidden_layer_sizes=(40, 40, 40, 20), max_iter=1000)\n",
      "TRAINING SET: \n",
      "{'Pos': 82, 'Neg': 4986, 'TP': 49, 'TN': 4986, 'FP': 0, 'FN': 33, 'Accuracy': 0.9934885556432518, 'Precision': 1.0, 'Recall': 0.5975609756097561, 'desc': 'nn', 'set': 'train'}\n",
      "TEST SET: \n",
      "{'Pos': 19, 'Neg': 1671, 'TP': 9, 'TN': 1667, 'FP': 4, 'FN': 10, 'Accuracy': 0.991715976331361, 'Precision': 0.6923076923076923, 'Recall': 0.47368421052631576, 'desc': 'nn_test', 'set': 'test'}\n"
     ]
    }
   ],
   "source": [
    "# MODEL: Multi-layer Perceptron aka neural network\n",
    "from sklearn import neural_network\n",
    "nn = neural_network.MLPClassifier(hidden_layer_sizes=(40,40,40,20, ), max_iter=1000)\n",
    "\n",
    "print(nn)\n",
    "nn.fit(data_train, y_train)\n",
    "\n",
    "\n",
    "nn_performance_4 = BinaryClassificationPerformance(nn.predict(data_train), y_train, 'nn')\n",
    "nn_performance_4.compute_measures()\n",
    "nn_performance_4.performance_measures['set'] = 'train'\n",
    "print('TRAINING SET: ')\n",
    "print(nn_performance_4.performance_measures)\n",
    "\n",
    "nn_performance_test_4 = BinaryClassificationPerformance(nn.predict(data_test), y_test, 'nn_test')\n",
    "nn_performance_test_4.compute_measures()\n",
    "nn_performance_test_4.performance_measures['set'] = 'test'\n",
    "print('TEST SET: ')\n",
    "print(nn_performance_test_4.performance_measures)\n",
    "\n",
    "nn_performance_test_4.img_indices()\n",
    "nn_img_indices_to_view_4 = nn_performance_test_4.image_indices"
   ]
  },
  {
   "cell_type": "code",
   "execution_count": 120,
   "metadata": {},
   "outputs": [
    {
     "name": "stdout",
     "output_type": "stream",
     "text": [
      "MLPClassifier(hidden_layer_sizes=(40, 40, 20, 20), max_iter=1000)\n",
      "TRAINING SET: \n",
      "{'Pos': 82, 'Neg': 4986, 'TP': 47, 'TN': 4986, 'FP': 0, 'FN': 35, 'Accuracy': 0.9930939226519337, 'Precision': 1.0, 'Recall': 0.573170731707317, 'desc': 'nn', 'set': 'train'}\n",
      "TEST SET: \n",
      "{'Pos': 19, 'Neg': 1671, 'TP': 10, 'TN': 1668, 'FP': 3, 'FN': 9, 'Accuracy': 0.9928994082840237, 'Precision': 0.7692307692307693, 'Recall': 0.5263157894736842, 'desc': 'nn_test', 'set': 'test'}\n"
     ]
    }
   ],
   "source": [
    "# MODEL: Multi-layer Perceptron aka neural network\n",
    "from sklearn import neural_network\n",
    "nn = neural_network.MLPClassifier(hidden_layer_sizes=(40,40,20,20, ), max_iter=1000)\n",
    "\n",
    "print(nn)\n",
    "nn.fit(data_train, y_train)\n",
    "\n",
    "\n",
    "nn_performance_4 = BinaryClassificationPerformance(nn.predict(data_train), y_train, 'nn')\n",
    "nn_performance_4.compute_measures()\n",
    "nn_performance_4.performance_measures['set'] = 'train'\n",
    "print('TRAINING SET: ')\n",
    "print(nn_performance_4.performance_measures)\n",
    "\n",
    "nn_performance_test_4 = BinaryClassificationPerformance(nn.predict(data_test), y_test, 'nn_test')\n",
    "nn_performance_test_4.compute_measures()\n",
    "nn_performance_test_4.performance_measures['set'] = 'test'\n",
    "print('TEST SET: ')\n",
    "print(nn_performance_test_4.performance_measures)\n",
    "\n",
    "nn_performance_test_4.img_indices()\n",
    "nn_img_indices_to_view_4 = nn_performance_test_4.image_indices"
   ]
  },
  {
   "cell_type": "code",
   "execution_count": 121,
   "metadata": {},
   "outputs": [
    {
     "name": "stdout",
     "output_type": "stream",
     "text": [
      "MLPClassifier(hidden_layer_sizes=(40, 20, 20, 20), max_iter=1000)\n",
      "TRAINING SET: \n",
      "{'Pos': 82, 'Neg': 4986, 'TP': 50, 'TN': 4986, 'FP': 0, 'FN': 32, 'Accuracy': 0.9936858721389108, 'Precision': 1.0, 'Recall': 0.6097560975609756, 'desc': 'nn', 'set': 'train'}\n",
      "TEST SET: \n",
      "{'Pos': 19, 'Neg': 1671, 'TP': 12, 'TN': 1669, 'FP': 2, 'FN': 7, 'Accuracy': 0.9946745562130177, 'Precision': 0.8571428571428571, 'Recall': 0.631578947368421, 'desc': 'nn_test', 'set': 'test'}\n"
     ]
    }
   ],
   "source": [
    "# MODEL: Multi-layer Perceptron aka neural network\n",
    "from sklearn import neural_network\n",
    "nn = neural_network.MLPClassifier(hidden_layer_sizes=(40,20,20,20, ), max_iter=1000)\n",
    "\n",
    "print(nn)\n",
    "nn.fit(data_train, y_train)\n",
    "\n",
    "\n",
    "nn_performance_4 = BinaryClassificationPerformance(nn.predict(data_train), y_train, 'nn')\n",
    "nn_performance_4.compute_measures()\n",
    "nn_performance_4.performance_measures['set'] = 'train'\n",
    "print('TRAINING SET: ')\n",
    "print(nn_performance_4.performance_measures)\n",
    "\n",
    "nn_performance_test_4 = BinaryClassificationPerformance(nn.predict(data_test), y_test, 'nn_test')\n",
    "nn_performance_test_4.compute_measures()\n",
    "nn_performance_test_4.performance_measures['set'] = 'test'\n",
    "print('TEST SET: ')\n",
    "print(nn_performance_test_4.performance_measures)\n",
    "\n",
    "nn_performance_test_4.img_indices()\n",
    "nn_img_indices_to_view_4 = nn_performance_test_4.image_indices"
   ]
  },
  {
   "cell_type": "code",
   "execution_count": 122,
   "metadata": {},
   "outputs": [
    {
     "name": "stdout",
     "output_type": "stream",
     "text": [
      "MLPClassifier(hidden_layer_sizes=(20, 20, 20, 20), max_iter=1000)\n",
      "TRAINING SET: \n",
      "{'Pos': 82, 'Neg': 4986, 'TP': 13, 'TN': 4986, 'FP': 0, 'FN': 69, 'Accuracy': 0.9863851617995264, 'Precision': 1.0, 'Recall': 0.15853658536585366, 'desc': 'nn', 'set': 'train'}\n",
      "TEST SET: \n",
      "{'Pos': 19, 'Neg': 1671, 'TP': 2, 'TN': 1669, 'FP': 2, 'FN': 17, 'Accuracy': 0.9887573964497042, 'Precision': 0.5, 'Recall': 0.10526315789473684, 'desc': 'nn_test', 'set': 'test'}\n"
     ]
    }
   ],
   "source": [
    "# MODEL: Multi-layer Perceptron aka neural network\n",
    "from sklearn import neural_network\n",
    "nn = neural_network.MLPClassifier(hidden_layer_sizes=(20,20,20,20, ), max_iter=1000)\n",
    "\n",
    "print(nn)\n",
    "nn.fit(data_train, y_train)\n",
    "\n",
    "\n",
    "nn_performance_4 = BinaryClassificationPerformance(nn.predict(data_train), y_train, 'nn')\n",
    "nn_performance_4.compute_measures()\n",
    "nn_performance_4.performance_measures['set'] = 'train'\n",
    "print('TRAINING SET: ')\n",
    "print(nn_performance_4.performance_measures)\n",
    "\n",
    "nn_performance_test_4 = BinaryClassificationPerformance(nn.predict(data_test), y_test, 'nn_test')\n",
    "nn_performance_test_4.compute_measures()\n",
    "nn_performance_test_4.performance_measures['set'] = 'test'\n",
    "print('TEST SET: ')\n",
    "print(nn_performance_test_4.performance_measures)\n",
    "\n",
    "nn_performance_test_4.img_indices()\n",
    "nn_img_indices_to_view_4 = nn_performance_test_4.image_indices"
   ]
  },
  {
   "cell_type": "code",
   "execution_count": 123,
   "metadata": {},
   "outputs": [
    {
     "name": "stdout",
     "output_type": "stream",
     "text": [
      "MLPClassifier(hidden_layer_sizes=(20, 20, 20, 10), max_iter=1000)\n",
      "TRAINING SET: \n",
      "{'Pos': 82, 'Neg': 4986, 'TP': 49, 'TN': 4986, 'FP': 0, 'FN': 33, 'Accuracy': 0.9934885556432518, 'Precision': 1.0, 'Recall': 0.5975609756097561, 'desc': 'nn', 'set': 'train'}\n",
      "TEST SET: \n",
      "{'Pos': 19, 'Neg': 1671, 'TP': 9, 'TN': 1667, 'FP': 4, 'FN': 10, 'Accuracy': 0.991715976331361, 'Precision': 0.6923076923076923, 'Recall': 0.47368421052631576, 'desc': 'nn_test', 'set': 'test'}\n"
     ]
    }
   ],
   "source": [
    "# MODEL: Multi-layer Perceptron aka neural network\n",
    "from sklearn import neural_network\n",
    "nn = neural_network.MLPClassifier(hidden_layer_sizes=(20,20,20,10, ), max_iter=1000)\n",
    "\n",
    "print(nn)\n",
    "nn.fit(data_train, y_train)\n",
    "\n",
    "\n",
    "nn_performance_4 = BinaryClassificationPerformance(nn.predict(data_train), y_train, 'nn')\n",
    "nn_performance_4.compute_measures()\n",
    "nn_performance_4.performance_measures['set'] = 'train'\n",
    "print('TRAINING SET: ')\n",
    "print(nn_performance_4.performance_measures)\n",
    "\n",
    "nn_performance_test_4 = BinaryClassificationPerformance(nn.predict(data_test), y_test, 'nn_test')\n",
    "nn_performance_test_4.compute_measures()\n",
    "nn_performance_test_4.performance_measures['set'] = 'test'\n",
    "print('TEST SET: ')\n",
    "print(nn_performance_test_4.performance_measures)\n",
    "\n",
    "nn_performance_test_4.img_indices()\n",
    "nn_img_indices_to_view_4 = nn_performance_test_4.image_indices"
   ]
  },
  {
   "cell_type": "code",
   "execution_count": 124,
   "metadata": {},
   "outputs": [
    {
     "name": "stdout",
     "output_type": "stream",
     "text": [
      "MLPClassifier(hidden_layer_sizes=(20, 20, 10, 10), max_iter=1000)\n",
      "TRAINING SET: \n",
      "{'Pos': 82, 'Neg': 4986, 'TP': 56, 'TN': 4986, 'FP': 0, 'FN': 26, 'Accuracy': 0.994869771112865, 'Precision': 1.0, 'Recall': 0.6829268292682927, 'desc': 'nn', 'set': 'train'}\n",
      "TEST SET: \n",
      "{'Pos': 19, 'Neg': 1671, 'TP': 13, 'TN': 1668, 'FP': 3, 'FN': 6, 'Accuracy': 0.9946745562130177, 'Precision': 0.8125, 'Recall': 0.6842105263157895, 'desc': 'nn_test', 'set': 'test'}\n"
     ]
    }
   ],
   "source": [
    "# MODEL: Multi-layer Perceptron aka neural network\n",
    "from sklearn import neural_network\n",
    "nn = neural_network.MLPClassifier(hidden_layer_sizes=(20,20,10,10, ), max_iter=1000)\n",
    "\n",
    "print(nn)\n",
    "nn.fit(data_train, y_train)\n",
    "\n",
    "\n",
    "nn_performance_4 = BinaryClassificationPerformance(nn.predict(data_train), y_train, 'nn')\n",
    "nn_performance_4.compute_measures()\n",
    "nn_performance_4.performance_measures['set'] = 'train'\n",
    "print('TRAINING SET: ')\n",
    "print(nn_performance_4.performance_measures)\n",
    "\n",
    "nn_performance_test_4 = BinaryClassificationPerformance(nn.predict(data_test), y_test, 'nn_test')\n",
    "nn_performance_test_4.compute_measures()\n",
    "nn_performance_test_4.performance_measures['set'] = 'test'\n",
    "print('TEST SET: ')\n",
    "print(nn_performance_test_4.performance_measures)\n",
    "\n",
    "nn_performance_test_4.img_indices()\n",
    "nn_img_indices_to_view_4 = nn_performance_test_4.image_indices"
   ]
  },
  {
   "cell_type": "code",
   "execution_count": 204,
   "metadata": {},
   "outputs": [
    {
     "name": "stdout",
     "output_type": "stream",
     "text": [
      "MLPClassifier(hidden_layer_sizes=(20, 10, 10, 10), max_iter=1000)\n",
      "TRAINING SET: \n",
      "{'Pos': 82, 'Neg': 4986, 'TP': 56, 'TN': 4986, 'FP': 0, 'FN': 26, 'Accuracy': 0.994869771112865, 'Precision': 1.0, 'Recall': 0.6829268292682927, 'desc': 'nn', 'set': 'train'}\n",
      "TEST SET: \n",
      "{'Pos': 19, 'Neg': 1671, 'TP': 11, 'TN': 1669, 'FP': 2, 'FN': 8, 'Accuracy': 0.9940828402366864, 'Precision': 0.8461538461538461, 'Recall': 0.5789473684210527, 'desc': 'nn_test', 'set': 'test'}\n"
     ]
    }
   ],
   "source": [
    "# MODEL: Multi-layer Perceptron aka neural network\n",
    "from sklearn import neural_network\n",
    "nn = neural_network.MLPClassifier(hidden_layer_sizes=(20,10,10,10, ), max_iter=1000)\n",
    "\n",
    "print(nn)\n",
    "nn.fit(data_train, y_train)\n",
    "\n",
    "\n",
    "nn_performance_4 = BinaryClassificationPerformance(nn.predict(data_train), y_train, 'nn')\n",
    "nn_performance_4.compute_measures()\n",
    "nn_performance_4.performance_measures['set'] = 'train'\n",
    "print('TRAINING SET: ')\n",
    "print(nn_performance_4.performance_measures)\n",
    "\n",
    "nn_performance_test_4 = BinaryClassificationPerformance(nn.predict(data_test), y_test, 'nn_test')\n",
    "nn_performance_test_4.compute_measures()\n",
    "nn_performance_test_4.performance_measures['set'] = 'test'\n",
    "print('TEST SET: ')\n",
    "print(nn_performance_test_4.performance_measures)\n",
    "\n",
    "nn_performance_test_4.img_indices()\n",
    "nn_img_indices_to_view_4 = nn_performance_test_4.image_indices"
   ]
  },
  {
   "cell_type": "code",
   "execution_count": 127,
   "metadata": {},
   "outputs": [
    {
     "name": "stdout",
     "output_type": "stream",
     "text": [
      "MLPClassifier(hidden_layer_sizes=(10, 10, 10, 10), max_iter=1000)\n",
      "TRAINING SET: \n",
      "{'Pos': 82, 'Neg': 4986, 'TP': 59, 'TN': 4986, 'FP': 0, 'FN': 23, 'Accuracy': 0.9954617205998422, 'Precision': 1.0, 'Recall': 0.7195121951219512, 'desc': 'nn', 'set': 'train'}\n",
      "TEST SET: \n",
      "{'Pos': 19, 'Neg': 1671, 'TP': 11, 'TN': 1670, 'FP': 1, 'FN': 8, 'Accuracy': 0.9946745562130177, 'Precision': 0.9166666666666666, 'Recall': 0.5789473684210527, 'desc': 'nn_test', 'set': 'test'}\n"
     ]
    }
   ],
   "source": [
    "# MODEL: Multi-layer Perceptron aka neural network\n",
    "from sklearn import neural_network\n",
    "nn = neural_network.MLPClassifier(hidden_layer_sizes=(10,10,10,10, ), max_iter=1000)\n",
    "\n",
    "print(nn)\n",
    "nn.fit(data_train, y_train)\n",
    "\n",
    "\n",
    "nn_performance_4 = BinaryClassificationPerformance(nn.predict(data_train), y_train, 'nn')\n",
    "nn_performance_4.compute_measures()\n",
    "nn_performance_4.performance_measures['set'] = 'train'\n",
    "print('TRAINING SET: ')\n",
    "print(nn_performance_4.performance_measures)\n",
    "\n",
    "nn_performance_test_4 = BinaryClassificationPerformance(nn.predict(data_test), y_test, 'nn_test')\n",
    "nn_performance_test_4.compute_measures()\n",
    "nn_performance_test_4.performance_measures['set'] = 'test'\n",
    "print('TEST SET: ')\n",
    "print(nn_performance_test_4.performance_measures)\n",
    "\n",
    "nn_performance_test_4.img_indices()\n",
    "nn_img_indices_to_view_4 = nn_performance_test_4.image_indices"
   ]
  },
  {
   "cell_type": "code",
   "execution_count": 129,
   "metadata": {},
   "outputs": [
    {
     "name": "stdout",
     "output_type": "stream",
     "text": [
      "MLPClassifier(hidden_layer_sizes=(100, 80, 60, 40), max_iter=1000)\n",
      "TRAINING SET: \n",
      "{'Pos': 82, 'Neg': 4986, 'TP': 43, 'TN': 4986, 'FP': 0, 'FN': 39, 'Accuracy': 0.9923046566692976, 'Precision': 1.0, 'Recall': 0.524390243902439, 'desc': 'nn', 'set': 'train'}\n",
      "TEST SET: \n",
      "{'Pos': 19, 'Neg': 1671, 'TP': 11, 'TN': 1668, 'FP': 3, 'FN': 8, 'Accuracy': 0.993491124260355, 'Precision': 0.7857142857142857, 'Recall': 0.5789473684210527, 'desc': 'nn_test', 'set': 'test'}\n"
     ]
    }
   ],
   "source": [
    "# MODEL: Multi-layer Perceptron aka neural network\n",
    "from sklearn import neural_network\n",
    "nn = neural_network.MLPClassifier(hidden_layer_sizes=(100,80,60,40, ), max_iter=1000)\n",
    "\n",
    "print(nn)\n",
    "nn.fit(data_train, y_train)\n",
    "\n",
    "\n",
    "nn_performance_4 = BinaryClassificationPerformance(nn.predict(data_train), y_train, 'nn')\n",
    "nn_performance_4.compute_measures()\n",
    "nn_performance_4.performance_measures['set'] = 'train'\n",
    "print('TRAINING SET: ')\n",
    "print(nn_performance_4.performance_measures)\n",
    "\n",
    "nn_performance_test_4 = BinaryClassificationPerformance(nn.predict(data_test), y_test, 'nn_test')\n",
    "nn_performance_test_4.compute_measures()\n",
    "nn_performance_test_4.performance_measures['set'] = 'test'\n",
    "print('TEST SET: ')\n",
    "print(nn_performance_test_4.performance_measures)\n",
    "\n",
    "nn_performance_test_4.img_indices()\n",
    "nn_img_indices_to_view_4 = nn_performance_test_4.image_indices"
   ]
  },
  {
   "cell_type": "code",
   "execution_count": 130,
   "metadata": {},
   "outputs": [
    {
     "name": "stdout",
     "output_type": "stream",
     "text": [
      "MLPClassifier(hidden_layer_sizes=(80, 60, 40, 20), max_iter=1000)\n",
      "TRAINING SET: \n",
      "{'Pos': 82, 'Neg': 4986, 'TP': 49, 'TN': 4986, 'FP': 0, 'FN': 33, 'Accuracy': 0.9934885556432518, 'Precision': 1.0, 'Recall': 0.5975609756097561, 'desc': 'nn', 'set': 'train'}\n",
      "TEST SET: \n",
      "{'Pos': 19, 'Neg': 1671, 'TP': 13, 'TN': 1669, 'FP': 2, 'FN': 6, 'Accuracy': 0.9952662721893492, 'Precision': 0.8666666666666667, 'Recall': 0.6842105263157895, 'desc': 'nn_test', 'set': 'test'}\n"
     ]
    }
   ],
   "source": [
    "# MODEL: Multi-layer Perceptron aka neural network\n",
    "from sklearn import neural_network\n",
    "nn = neural_network.MLPClassifier(hidden_layer_sizes=(80,60,40,20), max_iter=1000)\n",
    "\n",
    "print(nn)\n",
    "nn.fit(data_train, y_train)\n",
    "\n",
    "\n",
    "nn_performance_4 = BinaryClassificationPerformance(nn.predict(data_train), y_train, 'nn')\n",
    "nn_performance_4.compute_measures()\n",
    "nn_performance_4.performance_measures['set'] = 'train'\n",
    "print('TRAINING SET: ')\n",
    "print(nn_performance_4.performance_measures)\n",
    "\n",
    "nn_performance_test_4 = BinaryClassificationPerformance(nn.predict(data_test), y_test, 'nn_test')\n",
    "nn_performance_test_4.compute_measures()\n",
    "nn_performance_test_4.performance_measures['set'] = 'test'\n",
    "print('TEST SET: ')\n",
    "print(nn_performance_test_4.performance_measures)\n",
    "\n",
    "nn_performance_test_4.img_indices()\n",
    "nn_img_indices_to_view_4 = nn_performance_test_4.image_indices"
   ]
  },
  {
   "cell_type": "code",
   "execution_count": 131,
   "metadata": {},
   "outputs": [
    {
     "name": "stdout",
     "output_type": "stream",
     "text": [
      "MLPClassifier(hidden_layer_sizes=(60, 40, 20, 10), max_iter=1000)\n",
      "TRAINING SET: \n",
      "{'Pos': 82, 'Neg': 4986, 'TP': 43, 'TN': 4985, 'FP': 1, 'FN': 39, 'Accuracy': 0.9921073401736386, 'Precision': 0.9772727272727273, 'Recall': 0.524390243902439, 'desc': 'nn', 'set': 'train'}\n",
      "TEST SET: \n",
      "{'Pos': 19, 'Neg': 1671, 'TP': 12, 'TN': 1669, 'FP': 2, 'FN': 7, 'Accuracy': 0.9946745562130177, 'Precision': 0.8571428571428571, 'Recall': 0.631578947368421, 'desc': 'nn_test', 'set': 'test'}\n"
     ]
    }
   ],
   "source": [
    "# MODEL: Multi-layer Perceptron aka neural network\n",
    "from sklearn import neural_network\n",
    "nn = neural_network.MLPClassifier(hidden_layer_sizes=(60,40,20,10), max_iter=1000)\n",
    "\n",
    "print(nn)\n",
    "nn.fit(data_train, y_train)\n",
    "\n",
    "\n",
    "nn_performance_4 = BinaryClassificationPerformance(nn.predict(data_train), y_train, 'nn')\n",
    "nn_performance_4.compute_measures()\n",
    "nn_performance_4.performance_measures['set'] = 'train'\n",
    "print('TRAINING SET: ')\n",
    "print(nn_performance_4.performance_measures)\n",
    "\n",
    "nn_performance_test_4 = BinaryClassificationPerformance(nn.predict(data_test), y_test, 'nn_test')\n",
    "nn_performance_test_4.compute_measures()\n",
    "nn_performance_test_4.performance_measures['set'] = 'test'\n",
    "print('TEST SET: ')\n",
    "print(nn_performance_test_4.performance_measures)\n",
    "\n",
    "nn_performance_test_4.img_indices()\n",
    "nn_img_indices_to_view_4 = nn_performance_test_4.image_indices"
   ]
  },
  {
   "cell_type": "code",
   "execution_count": 132,
   "metadata": {},
   "outputs": [
    {
     "name": "stdout",
     "output_type": "stream",
     "text": [
      "MLPClassifier(hidden_layer_sizes=(100, 100, 100), max_iter=1000)\n",
      "TRAINING SET: \n",
      "{'Pos': 82, 'Neg': 4986, 'TP': 46, 'TN': 4985, 'FP': 1, 'FN': 36, 'Accuracy': 0.9926992896606156, 'Precision': 0.9787234042553191, 'Recall': 0.5609756097560976, 'desc': 'nn', 'set': 'train'}\n",
      "TEST SET: \n",
      "{'Pos': 19, 'Neg': 1671, 'TP': 12, 'TN': 1667, 'FP': 4, 'FN': 7, 'Accuracy': 0.993491124260355, 'Precision': 0.75, 'Recall': 0.631578947368421, 'desc': 'nn_test', 'set': 'test'}\n"
     ]
    }
   ],
   "source": [
    "# MODEL: Multi-layer Perceptron aka neural network\n",
    "from sklearn import neural_network\n",
    "nn = neural_network.MLPClassifier(hidden_layer_sizes=(100,100,100,), max_iter=1000)\n",
    "\n",
    "print(nn)\n",
    "nn.fit(data_train, y_train)\n",
    "\n",
    "\n",
    "nn_performance_4 = BinaryClassificationPerformance(nn.predict(data_train), y_train, 'nn')\n",
    "nn_performance_4.compute_measures()\n",
    "nn_performance_4.performance_measures['set'] = 'train'\n",
    "print('TRAINING SET: ')\n",
    "print(nn_performance_4.performance_measures)\n",
    "\n",
    "nn_performance_test_4 = BinaryClassificationPerformance(nn.predict(data_test), y_test, 'nn_test')\n",
    "nn_performance_test_4.compute_measures()\n",
    "nn_performance_test_4.performance_measures['set'] = 'test'\n",
    "print('TEST SET: ')\n",
    "print(nn_performance_test_4.performance_measures)\n",
    "\n",
    "nn_performance_test_4.img_indices()\n",
    "nn_img_indices_to_view_4 = nn_performance_test_4.image_indices"
   ]
  },
  {
   "cell_type": "code",
   "execution_count": 202,
   "metadata": {},
   "outputs": [
    {
     "name": "stdout",
     "output_type": "stream",
     "text": [
      "MLPClassifier(hidden_layer_sizes=(100, 100, 80), max_iter=1000)\n",
      "TRAINING SET: \n",
      "{'Pos': 82, 'Neg': 4986, 'TP': 58, 'TN': 4986, 'FP': 0, 'FN': 24, 'Accuracy': 0.9952644041041832, 'Precision': 1.0, 'Recall': 0.7073170731707317, 'desc': 'nn', 'set': 'train'}\n",
      "TEST SET: \n",
      "{'Pos': 19, 'Neg': 1671, 'TP': 13, 'TN': 1668, 'FP': 3, 'FN': 6, 'Accuracy': 0.9946745562130177, 'Precision': 0.8125, 'Recall': 0.6842105263157895, 'desc': 'nn_test', 'set': 'test'}\n"
     ]
    }
   ],
   "source": [
    "# MODEL: Multi-layer Perceptron aka neural network\n",
    "from sklearn import neural_network\n",
    "nn = neural_network.MLPClassifier(hidden_layer_sizes=(100,100,80,), max_iter=1000)\n",
    "\n",
    "print(nn)\n",
    "nn.fit(data_train, y_train)\n",
    "\n",
    "\n",
    "nn_performance_4 = BinaryClassificationPerformance(nn.predict(data_train), y_train, 'nn')\n",
    "nn_performance_4.compute_measures()\n",
    "nn_performance_4.performance_measures['set'] = 'train'\n",
    "print('TRAINING SET: ')\n",
    "print(nn_performance_4.performance_measures)\n",
    "\n",
    "nn_performance_test_4 = BinaryClassificationPerformance(nn.predict(data_test), y_test, 'nn_test')\n",
    "nn_performance_test_4.compute_measures()\n",
    "nn_performance_test_4.performance_measures['set'] = 'test'\n",
    "print('TEST SET: ')\n",
    "print(nn_performance_test_4.performance_measures)\n",
    "\n",
    "nn_performance_test_4.img_indices()\n",
    "nn_img_indices_to_view_4 = nn_performance_test_4.image_indices"
   ]
  },
  {
   "cell_type": "code",
   "execution_count": 195,
   "metadata": {},
   "outputs": [
    {
     "name": "stdout",
     "output_type": "stream",
     "text": [
      "MLPClassifier(hidden_layer_sizes=(100, 80, 80), max_iter=1000)\n",
      "TRAINING SET: \n",
      "{'Pos': 82, 'Neg': 4986, 'TP': 43, 'TN': 4986, 'FP': 0, 'FN': 39, 'Accuracy': 0.9923046566692976, 'Precision': 1.0, 'Recall': 0.524390243902439, 'desc': 'nn', 'set': 'train'}\n",
      "TEST SET: \n",
      "{'Pos': 19, 'Neg': 1671, 'TP': 6, 'TN': 1670, 'FP': 1, 'FN': 13, 'Accuracy': 0.991715976331361, 'Precision': 0.8571428571428571, 'Recall': 0.3157894736842105, 'desc': 'nn_test', 'set': 'test'}\n"
     ]
    }
   ],
   "source": [
    "# MODEL: Multi-layer Perceptron aka neural network\n",
    "from sklearn import neural_network\n",
    "nn = neural_network.MLPClassifier(hidden_layer_sizes=(100,80,80,), max_iter=1000)\n",
    "\n",
    "print(nn)\n",
    "nn.fit(data_train, y_train)\n",
    "\n",
    "\n",
    "nn_performance_4 = BinaryClassificationPerformance(nn.predict(data_train), y_train, 'nn')\n",
    "nn_performance_4.compute_measures()\n",
    "nn_performance_4.performance_measures['set'] = 'train'\n",
    "print('TRAINING SET: ')\n",
    "print(nn_performance_4.performance_measures)\n",
    "\n",
    "nn_performance_test_4 = BinaryClassificationPerformance(nn.predict(data_test), y_test, 'nn_test')\n",
    "nn_performance_test_4.compute_measures()\n",
    "nn_performance_test_4.performance_measures['set'] = 'test'\n",
    "print('TEST SET: ')\n",
    "print(nn_performance_test_4.performance_measures)\n",
    "\n",
    "nn_performance_test_4.img_indices()\n",
    "nn_img_indices_to_view_4 = nn_performance_test_4.image_indices"
   ]
  },
  {
   "cell_type": "code",
   "execution_count": 135,
   "metadata": {},
   "outputs": [
    {
     "name": "stdout",
     "output_type": "stream",
     "text": [
      "MLPClassifier(hidden_layer_sizes=(100, 80, 60), max_iter=1000)\n",
      "TRAINING SET: \n",
      "{'Pos': 82, 'Neg': 4986, 'TP': 49, 'TN': 4986, 'FP': 0, 'FN': 33, 'Accuracy': 0.9934885556432518, 'Precision': 1.0, 'Recall': 0.5975609756097561, 'desc': 'nn', 'set': 'train'}\n",
      "TEST SET: \n",
      "{'Pos': 19, 'Neg': 1671, 'TP': 12, 'TN': 1668, 'FP': 3, 'FN': 7, 'Accuracy': 0.9940828402366864, 'Precision': 0.8, 'Recall': 0.631578947368421, 'desc': 'nn_test', 'set': 'test'}\n"
     ]
    }
   ],
   "source": [
    "# MODEL: Multi-layer Perceptron aka neural network\n",
    "from sklearn import neural_network\n",
    "nn = neural_network.MLPClassifier(hidden_layer_sizes=(100,80,60,), max_iter=1000)\n",
    "\n",
    "print(nn)\n",
    "nn.fit(data_train, y_train)\n",
    "\n",
    "\n",
    "nn_performance_4 = BinaryClassificationPerformance(nn.predict(data_train), y_train, 'nn')\n",
    "nn_performance_4.compute_measures()\n",
    "nn_performance_4.performance_measures['set'] = 'train'\n",
    "print('TRAINING SET: ')\n",
    "print(nn_performance_4.performance_measures)\n",
    "\n",
    "nn_performance_test_4 = BinaryClassificationPerformance(nn.predict(data_test), y_test, 'nn_test')\n",
    "nn_performance_test_4.compute_measures()\n",
    "nn_performance_test_4.performance_measures['set'] = 'test'\n",
    "print('TEST SET: ')\n",
    "print(nn_performance_test_4.performance_measures)\n",
    "\n",
    "nn_performance_test_4.img_indices()\n",
    "nn_img_indices_to_view_4 = nn_performance_test_4.image_indices"
   ]
  },
  {
   "cell_type": "code",
   "execution_count": 136,
   "metadata": {},
   "outputs": [
    {
     "name": "stdout",
     "output_type": "stream",
     "text": [
      "MLPClassifier(hidden_layer_sizes=(80, 80, 80), max_iter=1000)\n",
      "TRAINING SET: \n",
      "{'Pos': 82, 'Neg': 4986, 'TP': 49, 'TN': 4986, 'FP': 0, 'FN': 33, 'Accuracy': 0.9934885556432518, 'Precision': 1.0, 'Recall': 0.5975609756097561, 'desc': 'nn', 'set': 'train'}\n",
      "TEST SET: \n",
      "{'Pos': 19, 'Neg': 1671, 'TP': 9, 'TN': 1666, 'FP': 5, 'FN': 10, 'Accuracy': 0.9911242603550295, 'Precision': 0.6428571428571429, 'Recall': 0.47368421052631576, 'desc': 'nn_test', 'set': 'test'}\n"
     ]
    }
   ],
   "source": [
    "# MODEL: Multi-layer Perceptron aka neural network\n",
    "from sklearn import neural_network\n",
    "nn = neural_network.MLPClassifier(hidden_layer_sizes=(80,80,80,), max_iter=1000)\n",
    "\n",
    "print(nn)\n",
    "nn.fit(data_train, y_train)\n",
    "\n",
    "\n",
    "nn_performance_4 = BinaryClassificationPerformance(nn.predict(data_train), y_train, 'nn')\n",
    "nn_performance_4.compute_measures()\n",
    "nn_performance_4.performance_measures['set'] = 'train'\n",
    "print('TRAINING SET: ')\n",
    "print(nn_performance_4.performance_measures)\n",
    "\n",
    "nn_performance_test_4 = BinaryClassificationPerformance(nn.predict(data_test), y_test, 'nn_test')\n",
    "nn_performance_test_4.compute_measures()\n",
    "nn_performance_test_4.performance_measures['set'] = 'test'\n",
    "print('TEST SET: ')\n",
    "print(nn_performance_test_4.performance_measures)\n",
    "\n",
    "nn_performance_test_4.img_indices()\n",
    "nn_img_indices_to_view_4 = nn_performance_test_4.image_indices"
   ]
  },
  {
   "cell_type": "code",
   "execution_count": 190,
   "metadata": {},
   "outputs": [
    {
     "name": "stdout",
     "output_type": "stream",
     "text": [
      "MLPClassifier(hidden_layer_sizes=(80, 80, 60), max_iter=1000)\n",
      "TRAINING SET: \n",
      "{'Pos': 82, 'Neg': 4986, 'TP': 47, 'TN': 4986, 'FP': 0, 'FN': 35, 'Accuracy': 0.9930939226519337, 'Precision': 1.0, 'Recall': 0.573170731707317, 'desc': 'nn', 'set': 'train'}\n",
      "TEST SET: \n",
      "{'Pos': 19, 'Neg': 1671, 'TP': 13, 'TN': 1669, 'FP': 2, 'FN': 6, 'Accuracy': 0.9952662721893492, 'Precision': 0.8666666666666667, 'Recall': 0.6842105263157895, 'desc': 'nn_test', 'set': 'test'}\n"
     ]
    }
   ],
   "source": [
    "# MODEL: Multi-layer Perceptron aka neural network\n",
    "from sklearn import neural_network\n",
    "nn = neural_network.MLPClassifier(hidden_layer_sizes=(80,80,60,), max_iter=1000)\n",
    "\n",
    "print(nn)\n",
    "nn.fit(data_train, y_train)\n",
    "\n",
    "\n",
    "nn_performance_4 = BinaryClassificationPerformance(nn.predict(data_train), y_train, 'nn')\n",
    "nn_performance_4.compute_measures()\n",
    "nn_performance_4.performance_measures['set'] = 'train'\n",
    "print('TRAINING SET: ')\n",
    "print(nn_performance_4.performance_measures)\n",
    "\n",
    "nn_performance_test_4 = BinaryClassificationPerformance(nn.predict(data_test), y_test, 'nn_test')\n",
    "nn_performance_test_4.compute_measures()\n",
    "nn_performance_test_4.performance_measures['set'] = 'test'\n",
    "print('TEST SET: ')\n",
    "print(nn_performance_test_4.performance_measures)\n",
    "\n",
    "nn_performance_test_4.img_indices()\n",
    "nn_img_indices_to_view_4 = nn_performance_test_4.image_indices"
   ]
  },
  {
   "cell_type": "code",
   "execution_count": 188,
   "metadata": {},
   "outputs": [
    {
     "name": "stdout",
     "output_type": "stream",
     "text": [
      "MLPClassifier(hidden_layer_sizes=(80, 60, 60), max_iter=1000)\n",
      "TRAINING SET: \n",
      "{'Pos': 82, 'Neg': 4986, 'TP': 51, 'TN': 4986, 'FP': 0, 'FN': 31, 'Accuracy': 0.9938831886345698, 'Precision': 1.0, 'Recall': 0.6219512195121951, 'desc': 'nn', 'set': 'train'}\n",
      "TEST SET: \n",
      "{'Pos': 19, 'Neg': 1671, 'TP': 11, 'TN': 1668, 'FP': 3, 'FN': 8, 'Accuracy': 0.993491124260355, 'Precision': 0.7857142857142857, 'Recall': 0.5789473684210527, 'desc': 'nn_test', 'set': 'test'}\n"
     ]
    }
   ],
   "source": [
    "# MODEL: Multi-layer Perceptron aka neural network\n",
    "from sklearn import neural_network\n",
    "nn = neural_network.MLPClassifier(hidden_layer_sizes=(80,60,60,), max_iter=1000)\n",
    "\n",
    "print(nn)\n",
    "nn.fit(data_train, y_train)\n",
    "\n",
    "\n",
    "nn_performance_4 = BinaryClassificationPerformance(nn.predict(data_train), y_train, 'nn')\n",
    "nn_performance_4.compute_measures()\n",
    "nn_performance_4.performance_measures['set'] = 'train'\n",
    "print('TRAINING SET: ')\n",
    "print(nn_performance_4.performance_measures)\n",
    "\n",
    "nn_performance_test_4 = BinaryClassificationPerformance(nn.predict(data_test), y_test, 'nn_test')\n",
    "nn_performance_test_4.compute_measures()\n",
    "nn_performance_test_4.performance_measures['set'] = 'test'\n",
    "print('TEST SET: ')\n",
    "print(nn_performance_test_4.performance_measures)\n",
    "\n",
    "nn_performance_test_4.img_indices()\n",
    "nn_img_indices_to_view_4 = nn_performance_test_4.image_indices\n"
   ]
  },
  {
   "cell_type": "code",
   "execution_count": 189,
   "metadata": {},
   "outputs": [
    {
     "name": "stdout",
     "output_type": "stream",
     "text": [
      "MLPClassifier(hidden_layer_sizes=(80, 60, 40), max_iter=1000)\n",
      "TRAINING SET: \n",
      "{'Pos': 82, 'Neg': 4986, 'TP': 59, 'TN': 4986, 'FP': 0, 'FN': 23, 'Accuracy': 0.9954617205998422, 'Precision': 1.0, 'Recall': 0.7195121951219512, 'desc': 'nn', 'set': 'train'}\n",
      "TEST SET: \n",
      "{'Pos': 19, 'Neg': 1671, 'TP': 12, 'TN': 1668, 'FP': 3, 'FN': 7, 'Accuracy': 0.9940828402366864, 'Precision': 0.8, 'Recall': 0.631578947368421, 'desc': 'nn_test', 'set': 'test'}\n"
     ]
    }
   ],
   "source": [
    "# MODEL: Multi-layer Perceptron aka neural network\n",
    "from sklearn import neural_network\n",
    "nn = neural_network.MLPClassifier(hidden_layer_sizes=(80,60,40,), max_iter=1000)\n",
    "\n",
    "print(nn)\n",
    "nn.fit(data_train, y_train)\n",
    "\n",
    "\n",
    "nn_performance_4 = BinaryClassificationPerformance(nn.predict(data_train), y_train, 'nn')\n",
    "nn_performance_4.compute_measures()\n",
    "nn_performance_4.performance_measures['set'] = 'train'\n",
    "print('TRAINING SET: ')\n",
    "print(nn_performance_4.performance_measures)\n",
    "\n",
    "nn_performance_test_4 = BinaryClassificationPerformance(nn.predict(data_test), y_test, 'nn_test')\n",
    "nn_performance_test_4.compute_measures()\n",
    "nn_performance_test_4.performance_measures['set'] = 'test'\n",
    "print('TEST SET: ')\n",
    "print(nn_performance_test_4.performance_measures)\n",
    "\n",
    "nn_performance_test_4.img_indices()\n",
    "nn_img_indices_to_view_4 = nn_performance_test_4.image_indices"
   ]
  },
  {
   "cell_type": "code",
   "execution_count": 139,
   "metadata": {},
   "outputs": [
    {
     "name": "stdout",
     "output_type": "stream",
     "text": [
      "MLPClassifier(hidden_layer_sizes=(60, 60, 60), max_iter=1000)\n",
      "TRAINING SET: \n",
      "{'Pos': 82, 'Neg': 4986, 'TP': 51, 'TN': 4986, 'FP': 0, 'FN': 31, 'Accuracy': 0.9938831886345698, 'Precision': 1.0, 'Recall': 0.6219512195121951, 'desc': 'nn', 'set': 'train'}\n",
      "TEST SET: \n",
      "{'Pos': 19, 'Neg': 1671, 'TP': 12, 'TN': 1667, 'FP': 4, 'FN': 7, 'Accuracy': 0.993491124260355, 'Precision': 0.75, 'Recall': 0.631578947368421, 'desc': 'nn_test', 'set': 'test'}\n"
     ]
    }
   ],
   "source": [
    "# MODEL: Multi-layer Perceptron aka neural network\n",
    "from sklearn import neural_network\n",
    "nn = neural_network.MLPClassifier(hidden_layer_sizes=(60,60,60,), max_iter=1000)\n",
    "\n",
    "print(nn)\n",
    "nn.fit(data_train, y_train)\n",
    "\n",
    "\n",
    "nn_performance_4 = BinaryClassificationPerformance(nn.predict(data_train), y_train, 'nn')\n",
    "nn_performance_4.compute_measures()\n",
    "nn_performance_4.performance_measures['set'] = 'train'\n",
    "print('TRAINING SET: ')\n",
    "print(nn_performance_4.performance_measures)\n",
    "\n",
    "nn_performance_test_4 = BinaryClassificationPerformance(nn.predict(data_test), y_test, 'nn_test')\n",
    "nn_performance_test_4.compute_measures()\n",
    "nn_performance_test_4.performance_measures['set'] = 'test'\n",
    "print('TEST SET: ')\n",
    "print(nn_performance_test_4.performance_measures)\n",
    "\n",
    "nn_performance_test_4.img_indices()\n",
    "nn_img_indices_to_view_4 = nn_performance_test_4.image_indices"
   ]
  },
  {
   "cell_type": "code",
   "execution_count": 141,
   "metadata": {},
   "outputs": [
    {
     "name": "stdout",
     "output_type": "stream",
     "text": [
      "MLPClassifier(hidden_layer_sizes=(60, 60, 40), max_iter=1000)\n",
      "TRAINING SET: \n",
      "{'Pos': 82, 'Neg': 4986, 'TP': 47, 'TN': 4986, 'FP': 0, 'FN': 35, 'Accuracy': 0.9930939226519337, 'Precision': 1.0, 'Recall': 0.573170731707317, 'desc': 'nn', 'set': 'train'}\n",
      "TEST SET: \n",
      "{'Pos': 19, 'Neg': 1671, 'TP': 10, 'TN': 1669, 'FP': 2, 'FN': 9, 'Accuracy': 0.993491124260355, 'Precision': 0.8333333333333334, 'Recall': 0.5263157894736842, 'desc': 'nn_test', 'set': 'test'}\n"
     ]
    }
   ],
   "source": [
    "# MODEL: Multi-layer Perceptron aka neural network\n",
    "from sklearn import neural_network\n",
    "nn = neural_network.MLPClassifier(hidden_layer_sizes=(60,60,40,), max_iter=1000)\n",
    "\n",
    "print(nn)\n",
    "nn.fit(data_train, y_train)\n",
    "\n",
    "\n",
    "nn_performance_4 = BinaryClassificationPerformance(nn.predict(data_train), y_train, 'nn')\n",
    "nn_performance_4.compute_measures()\n",
    "nn_performance_4.performance_measures['set'] = 'train'\n",
    "print('TRAINING SET: ')\n",
    "print(nn_performance_4.performance_measures)\n",
    "\n",
    "nn_performance_test_4 = BinaryClassificationPerformance(nn.predict(data_test), y_test, 'nn_test')\n",
    "nn_performance_test_4.compute_measures()\n",
    "nn_performance_test_4.performance_measures['set'] = 'test'\n",
    "print('TEST SET: ')\n",
    "print(nn_performance_test_4.performance_measures)\n",
    "\n",
    "nn_performance_test_4.img_indices()\n",
    "nn_img_indices_to_view_4 = nn_performance_test_4.image_indices"
   ]
  },
  {
   "cell_type": "code",
   "execution_count": 143,
   "metadata": {},
   "outputs": [
    {
     "name": "stdout",
     "output_type": "stream",
     "text": [
      "MLPClassifier(hidden_layer_sizes=(60, 40, 40), max_iter=1000)\n",
      "TRAINING SET: \n",
      "{'Pos': 82, 'Neg': 4986, 'TP': 41, 'TN': 4986, 'FP': 0, 'FN': 41, 'Accuracy': 0.9919100236779794, 'Precision': 1.0, 'Recall': 0.5, 'desc': 'nn', 'set': 'train'}\n",
      "TEST SET: \n",
      "{'Pos': 19, 'Neg': 1671, 'TP': 9, 'TN': 1669, 'FP': 2, 'FN': 10, 'Accuracy': 0.9928994082840237, 'Precision': 0.8181818181818182, 'Recall': 0.47368421052631576, 'desc': 'nn_test', 'set': 'test'}\n"
     ]
    }
   ],
   "source": [
    "# MODEL: Multi-layer Perceptron aka neural network\n",
    "from sklearn import neural_network\n",
    "nn = neural_network.MLPClassifier(hidden_layer_sizes=(60,40,40,), max_iter=1000)\n",
    "\n",
    "print(nn)\n",
    "nn.fit(data_train, y_train)\n",
    "\n",
    "\n",
    "nn_performance_4 = BinaryClassificationPerformance(nn.predict(data_train), y_train, 'nn')\n",
    "nn_performance_4.compute_measures()\n",
    "nn_performance_4.performance_measures['set'] = 'train'\n",
    "print('TRAINING SET: ')\n",
    "print(nn_performance_4.performance_measures)\n",
    "\n",
    "nn_performance_test_4 = BinaryClassificationPerformance(nn.predict(data_test), y_test, 'nn_test')\n",
    "nn_performance_test_4.compute_measures()\n",
    "nn_performance_test_4.performance_measures['set'] = 'test'\n",
    "print('TEST SET: ')\n",
    "print(nn_performance_test_4.performance_measures)\n",
    "\n",
    "nn_performance_test_4.img_indices()\n",
    "nn_img_indices_to_view_4 = nn_performance_test_4.image_indices"
   ]
  },
  {
   "cell_type": "code",
   "execution_count": 144,
   "metadata": {},
   "outputs": [
    {
     "name": "stdout",
     "output_type": "stream",
     "text": [
      "MLPClassifier(hidden_layer_sizes=(60, 40, 20), max_iter=1000)\n",
      "TRAINING SET: \n",
      "{'Pos': 82, 'Neg': 4986, 'TP': 54, 'TN': 4986, 'FP': 0, 'FN': 28, 'Accuracy': 0.994475138121547, 'Precision': 1.0, 'Recall': 0.6585365853658537, 'desc': 'nn', 'set': 'train'}\n",
      "TEST SET: \n",
      "{'Pos': 19, 'Neg': 1671, 'TP': 13, 'TN': 1667, 'FP': 4, 'FN': 6, 'Accuracy': 0.9940828402366864, 'Precision': 0.7647058823529411, 'Recall': 0.6842105263157895, 'desc': 'nn_test', 'set': 'test'}\n"
     ]
    }
   ],
   "source": [
    "# MODEL: Multi-layer Perceptron aka neural network\n",
    "from sklearn import neural_network\n",
    "nn = neural_network.MLPClassifier(hidden_layer_sizes=(60,40,20,), max_iter=1000)\n",
    "\n",
    "print(nn)\n",
    "nn.fit(data_train, y_train)\n",
    "\n",
    "\n",
    "nn_performance_4 = BinaryClassificationPerformance(nn.predict(data_train), y_train, 'nn')\n",
    "nn_performance_4.compute_measures()\n",
    "nn_performance_4.performance_measures['set'] = 'train'\n",
    "print('TRAINING SET: ')\n",
    "print(nn_performance_4.performance_measures)\n",
    "\n",
    "nn_performance_test_4 = BinaryClassificationPerformance(nn.predict(data_test), y_test, 'nn_test')\n",
    "nn_performance_test_4.compute_measures()\n",
    "nn_performance_test_4.performance_measures['set'] = 'test'\n",
    "print('TEST SET: ')\n",
    "print(nn_performance_test_4.performance_measures)\n",
    "\n",
    "nn_performance_test_4.img_indices()\n",
    "nn_img_indices_to_view_4 = nn_performance_test_4.image_indices"
   ]
  },
  {
   "cell_type": "code",
   "execution_count": 145,
   "metadata": {},
   "outputs": [
    {
     "name": "stdout",
     "output_type": "stream",
     "text": [
      "MLPClassifier(hidden_layer_sizes=(40, 40, 40), max_iter=1000)\n",
      "TRAINING SET: \n",
      "{'Pos': 82, 'Neg': 4986, 'TP': 58, 'TN': 4986, 'FP': 0, 'FN': 24, 'Accuracy': 0.9952644041041832, 'Precision': 1.0, 'Recall': 0.7073170731707317, 'desc': 'nn', 'set': 'train'}\n",
      "TEST SET: \n",
      "{'Pos': 19, 'Neg': 1671, 'TP': 11, 'TN': 1668, 'FP': 3, 'FN': 8, 'Accuracy': 0.993491124260355, 'Precision': 0.7857142857142857, 'Recall': 0.5789473684210527, 'desc': 'nn_test', 'set': 'test'}\n"
     ]
    }
   ],
   "source": [
    "# MODEL: Multi-layer Perceptron aka neural network\n",
    "from sklearn import neural_network\n",
    "nn = neural_network.MLPClassifier(hidden_layer_sizes=(40,40,40,), max_iter=1000)\n",
    "\n",
    "print(nn)\n",
    "nn.fit(data_train, y_train)\n",
    "\n",
    "\n",
    "nn_performance_4 = BinaryClassificationPerformance(nn.predict(data_train), y_train, 'nn')\n",
    "nn_performance_4.compute_measures()\n",
    "nn_performance_4.performance_measures['set'] = 'train'\n",
    "print('TRAINING SET: ')\n",
    "print(nn_performance_4.performance_measures)\n",
    "\n",
    "nn_performance_test_4 = BinaryClassificationPerformance(nn.predict(data_test), y_test, 'nn_test')\n",
    "nn_performance_test_4.compute_measures()\n",
    "nn_performance_test_4.performance_measures['set'] = 'test'\n",
    "print('TEST SET: ')\n",
    "print(nn_performance_test_4.performance_measures)\n",
    "\n",
    "nn_performance_test_4.img_indices()\n",
    "nn_img_indices_to_view_4 = nn_performance_test_4.image_indices"
   ]
  },
  {
   "cell_type": "code",
   "execution_count": 156,
   "metadata": {},
   "outputs": [
    {
     "name": "stdout",
     "output_type": "stream",
     "text": [
      "MLPClassifier(hidden_layer_sizes=(40, 40, 20), max_iter=1000)\n",
      "TRAINING SET: \n",
      "{'Pos': 82, 'Neg': 4986, 'TP': 52, 'TN': 4986, 'FP': 0, 'FN': 30, 'Accuracy': 0.9940805051302289, 'Precision': 1.0, 'Recall': 0.6341463414634146, 'desc': 'nn', 'set': 'train'}\n",
      "TEST SET: \n",
      "{'Pos': 19, 'Neg': 1671, 'TP': 10, 'TN': 1668, 'FP': 3, 'FN': 9, 'Accuracy': 0.9928994082840237, 'Precision': 0.7692307692307693, 'Recall': 0.5263157894736842, 'desc': 'nn_test', 'set': 'test'}\n"
     ]
    }
   ],
   "source": [
    "# MODEL: Multi-layer Perceptron aka neural network\n",
    "from sklearn import neural_network\n",
    "nn = neural_network.MLPClassifier(hidden_layer_sizes=(40,40,20,), max_iter=1000)\n",
    "\n",
    "print(nn)\n",
    "nn.fit(data_train, y_train)\n",
    "\n",
    "\n",
    "nn_performance_4 = BinaryClassificationPerformance(nn.predict(data_train), y_train, 'nn')\n",
    "nn_performance_4.compute_measures()\n",
    "nn_performance_4.performance_measures['set'] = 'train'\n",
    "print('TRAINING SET: ')\n",
    "print(nn_performance_4.performance_measures)\n",
    "\n",
    "nn_performance_test_4 = BinaryClassificationPerformance(nn.predict(data_test), y_test, 'nn_test')\n",
    "nn_performance_test_4.compute_measures()\n",
    "nn_performance_test_4.performance_measures['set'] = 'test'\n",
    "print('TEST SET: ')\n",
    "print(nn_performance_test_4.performance_measures)\n",
    "\n",
    "nn_performance_test_4.img_indices()\n",
    "nn_img_indices_to_view_4 = nn_performance_test_4.image_indices"
   ]
  },
  {
   "cell_type": "code",
   "execution_count": 176,
   "metadata": {},
   "outputs": [
    {
     "name": "stdout",
     "output_type": "stream",
     "text": [
      "MLPClassifier(hidden_layer_sizes=(40, 20, 20), max_iter=1000)\n",
      "TRAINING SET: \n",
      "{'Pos': 82, 'Neg': 4986, 'TP': 52, 'TN': 4986, 'FP': 0, 'FN': 30, 'Accuracy': 0.9940805051302289, 'Precision': 1.0, 'Recall': 0.6341463414634146, 'desc': 'nn', 'set': 'train'}\n",
      "TEST SET: \n",
      "{'Pos': 19, 'Neg': 1671, 'TP': 10, 'TN': 1670, 'FP': 1, 'FN': 9, 'Accuracy': 0.9940828402366864, 'Precision': 0.9090909090909091, 'Recall': 0.5263157894736842, 'desc': 'nn_test', 'set': 'test'}\n"
     ]
    }
   ],
   "source": [
    "# MODEL: Multi-layer Perceptron aka neural network\n",
    "from sklearn import neural_network\n",
    "nn = neural_network.MLPClassifier(hidden_layer_sizes=(40,20,20), max_iter=1000)\n",
    "\n",
    "print(nn)\n",
    "nn.fit(data_train, y_train)\n",
    "\n",
    "\n",
    "nn_performance_4 = BinaryClassificationPerformance(nn.predict(data_train), y_train, 'nn')\n",
    "nn_performance_4.compute_measures()\n",
    "nn_performance_4.performance_measures['set'] = 'train'\n",
    "print('TRAINING SET: ')\n",
    "print(nn_performance_4.performance_measures)\n",
    "\n",
    "nn_performance_test_4 = BinaryClassificationPerformance(nn.predict(data_test), y_test, 'nn_test')\n",
    "nn_performance_test_4.compute_measures()\n",
    "nn_performance_test_4.performance_measures['set'] = 'test'\n",
    "print('TEST SET: ')\n",
    "print(nn_performance_test_4.performance_measures)\n",
    "\n",
    "nn_performance_test_4.img_indices()\n",
    "nn_img_indices_to_view_4 = nn_performance_test_4.image_indices"
   ]
  },
  {
   "cell_type": "code",
   "execution_count": 158,
   "metadata": {},
   "outputs": [
    {
     "name": "stdout",
     "output_type": "stream",
     "text": [
      "MLPClassifier(hidden_layer_sizes=(40, 20, 10), max_iter=1000)\n",
      "TRAINING SET: \n",
      "{'Pos': 82, 'Neg': 4986, 'TP': 59, 'TN': 4986, 'FP': 0, 'FN': 23, 'Accuracy': 0.9954617205998422, 'Precision': 1.0, 'Recall': 0.7195121951219512, 'desc': 'nn', 'set': 'train'}\n",
      "TEST SET: \n",
      "{'Pos': 19, 'Neg': 1671, 'TP': 13, 'TN': 1670, 'FP': 1, 'FN': 6, 'Accuracy': 0.9958579881656805, 'Precision': 0.9285714285714286, 'Recall': 0.6842105263157895, 'desc': 'nn_test', 'set': 'test'}\n"
     ]
    }
   ],
   "source": [
    "# MODEL: Multi-layer Perceptron aka neural network\n",
    "from sklearn import neural_network\n",
    "nn = neural_network.MLPClassifier(hidden_layer_sizes=(40,20,10,), max_iter=1000)\n",
    "\n",
    "print(nn)\n",
    "nn.fit(data_train, y_train)\n",
    "\n",
    "\n",
    "nn_performance_4 = BinaryClassificationPerformance(nn.predict(data_train), y_train, 'nn')\n",
    "nn_performance_4.compute_measures()\n",
    "nn_performance_4.performance_measures['set'] = 'train'\n",
    "print('TRAINING SET: ')\n",
    "print(nn_performance_4.performance_measures)\n",
    "\n",
    "nn_performance_test_4 = BinaryClassificationPerformance(nn.predict(data_test), y_test, 'nn_test')\n",
    "nn_performance_test_4.compute_measures()\n",
    "nn_performance_test_4.performance_measures['set'] = 'test'\n",
    "print('TEST SET: ')\n",
    "print(nn_performance_test_4.performance_measures)\n",
    "\n",
    "nn_performance_test_4.img_indices()\n",
    "nn_img_indices_to_view_4 = nn_performance_test_4.image_indices"
   ]
  },
  {
   "cell_type": "code",
   "execution_count": 159,
   "metadata": {},
   "outputs": [
    {
     "name": "stdout",
     "output_type": "stream",
     "text": [
      "MLPClassifier(hidden_layer_sizes=(20, 20, 20), max_iter=1000)\n",
      "TRAINING SET: \n",
      "{'Pos': 82, 'Neg': 4986, 'TP': 54, 'TN': 4984, 'FP': 2, 'FN': 28, 'Accuracy': 0.9940805051302289, 'Precision': 0.9642857142857143, 'Recall': 0.6585365853658537, 'desc': 'nn', 'set': 'train'}\n",
      "TEST SET: \n",
      "{'Pos': 19, 'Neg': 1671, 'TP': 12, 'TN': 1669, 'FP': 2, 'FN': 7, 'Accuracy': 0.9946745562130177, 'Precision': 0.8571428571428571, 'Recall': 0.631578947368421, 'desc': 'nn_test', 'set': 'test'}\n"
     ]
    }
   ],
   "source": [
    "# MODEL: Multi-layer Perceptron aka neural network\n",
    "from sklearn import neural_network\n",
    "nn = neural_network.MLPClassifier(hidden_layer_sizes=(20,20,20,), max_iter=1000)\n",
    "\n",
    "print(nn)\n",
    "nn.fit(data_train, y_train)\n",
    "\n",
    "\n",
    "nn_performance_4 = BinaryClassificationPerformance(nn.predict(data_train), y_train, 'nn')\n",
    "nn_performance_4.compute_measures()\n",
    "nn_performance_4.performance_measures['set'] = 'train'\n",
    "print('TRAINING SET: ')\n",
    "print(nn_performance_4.performance_measures)\n",
    "\n",
    "nn_performance_test_4 = BinaryClassificationPerformance(nn.predict(data_test), y_test, 'nn_test')\n",
    "nn_performance_test_4.compute_measures()\n",
    "nn_performance_test_4.performance_measures['set'] = 'test'\n",
    "print('TEST SET: ')\n",
    "print(nn_performance_test_4.performance_measures)\n",
    "\n",
    "nn_performance_test_4.img_indices()\n",
    "nn_img_indices_to_view_4 = nn_performance_test_4.image_indices"
   ]
  },
  {
   "cell_type": "code",
   "execution_count": 160,
   "metadata": {},
   "outputs": [
    {
     "name": "stdout",
     "output_type": "stream",
     "text": [
      "MLPClassifier(hidden_layer_sizes=(20, 20, 10), max_iter=1000)\n",
      "TRAINING SET: \n",
      "{'Pos': 82, 'Neg': 4986, 'TP': 53, 'TN': 4986, 'FP': 0, 'FN': 29, 'Accuracy': 0.994277821625888, 'Precision': 1.0, 'Recall': 0.6463414634146342, 'desc': 'nn', 'set': 'train'}\n",
      "TEST SET: \n",
      "{'Pos': 19, 'Neg': 1671, 'TP': 10, 'TN': 1671, 'FP': 0, 'FN': 9, 'Accuracy': 0.9946745562130177, 'Precision': 1.0, 'Recall': 0.5263157894736842, 'desc': 'nn_test', 'set': 'test'}\n"
     ]
    }
   ],
   "source": [
    "# MODEL: Multi-layer Perceptron aka neural network\n",
    "from sklearn import neural_network\n",
    "nn = neural_network.MLPClassifier(hidden_layer_sizes=(20,20,10,), max_iter=1000)\n",
    "\n",
    "print(nn)\n",
    "nn.fit(data_train, y_train)\n",
    "\n",
    "\n",
    "nn_performance_4 = BinaryClassificationPerformance(nn.predict(data_train), y_train, 'nn')\n",
    "nn_performance_4.compute_measures()\n",
    "nn_performance_4.performance_measures['set'] = 'train'\n",
    "print('TRAINING SET: ')\n",
    "print(nn_performance_4.performance_measures)\n",
    "\n",
    "nn_performance_test_4 = BinaryClassificationPerformance(nn.predict(data_test), y_test, 'nn_test')\n",
    "nn_performance_test_4.compute_measures()\n",
    "nn_performance_test_4.performance_measures['set'] = 'test'\n",
    "print('TEST SET: ')\n",
    "print(nn_performance_test_4.performance_measures)\n",
    "\n",
    "nn_performance_test_4.img_indices()\n",
    "nn_img_indices_to_view_4 = nn_performance_test_4.image_indices"
   ]
  },
  {
   "cell_type": "code",
   "execution_count": 161,
   "metadata": {},
   "outputs": [
    {
     "name": "stdout",
     "output_type": "stream",
     "text": [
      "MLPClassifier(hidden_layer_sizes=(20, 10, 10), max_iter=1000)\n",
      "TRAINING SET: \n",
      "{'Pos': 82, 'Neg': 4986, 'TP': 59, 'TN': 4986, 'FP': 0, 'FN': 23, 'Accuracy': 0.9954617205998422, 'Precision': 1.0, 'Recall': 0.7195121951219512, 'desc': 'nn', 'set': 'train'}\n",
      "TEST SET: \n",
      "{'Pos': 19, 'Neg': 1671, 'TP': 12, 'TN': 1670, 'FP': 1, 'FN': 7, 'Accuracy': 0.9952662721893492, 'Precision': 0.9230769230769231, 'Recall': 0.631578947368421, 'desc': 'nn_test', 'set': 'test'}\n"
     ]
    }
   ],
   "source": [
    "# MODEL: Multi-layer Perceptron aka neural network\n",
    "from sklearn import neural_network\n",
    "nn = neural_network.MLPClassifier(hidden_layer_sizes=(20,10,10,), max_iter=1000)\n",
    "\n",
    "print(nn)\n",
    "nn.fit(data_train, y_train)\n",
    "\n",
    "\n",
    "nn_performance_4 = BinaryClassificationPerformance(nn.predict(data_train), y_train, 'nn')\n",
    "nn_performance_4.compute_measures()\n",
    "nn_performance_4.performance_measures['set'] = 'train'\n",
    "print('TRAINING SET: ')\n",
    "print(nn_performance_4.performance_measures)\n",
    "\n",
    "nn_performance_test_4 = BinaryClassificationPerformance(nn.predict(data_test), y_test, 'nn_test')\n",
    "nn_performance_test_4.compute_measures()\n",
    "nn_performance_test_4.performance_measures['set'] = 'test'\n",
    "print('TEST SET: ')\n",
    "print(nn_performance_test_4.performance_measures)\n",
    "\n",
    "nn_performance_test_4.img_indices()\n",
    "nn_img_indices_to_view_4 = nn_performance_test_4.image_indices"
   ]
  },
  {
   "cell_type": "code",
   "execution_count": 162,
   "metadata": {},
   "outputs": [
    {
     "name": "stdout",
     "output_type": "stream",
     "text": [
      "MLPClassifier(hidden_layer_sizes=(20, 10, 5), max_iter=1000)\n",
      "TRAINING SET: \n",
      "{'Pos': 82, 'Neg': 4986, 'TP': 58, 'TN': 4986, 'FP': 0, 'FN': 24, 'Accuracy': 0.9952644041041832, 'Precision': 1.0, 'Recall': 0.7073170731707317, 'desc': 'nn', 'set': 'train'}\n",
      "TEST SET: \n",
      "{'Pos': 19, 'Neg': 1671, 'TP': 9, 'TN': 1667, 'FP': 4, 'FN': 10, 'Accuracy': 0.991715976331361, 'Precision': 0.6923076923076923, 'Recall': 0.47368421052631576, 'desc': 'nn_test', 'set': 'test'}\n"
     ]
    }
   ],
   "source": [
    "# MODEL: Multi-layer Perceptron aka neural network\n",
    "from sklearn import neural_network\n",
    "nn = neural_network.MLPClassifier(hidden_layer_sizes=(20,10,5,), max_iter=1000)\n",
    "\n",
    "print(nn)\n",
    "nn.fit(data_train, y_train)\n",
    "\n",
    "\n",
    "nn_performance_4 = BinaryClassificationPerformance(nn.predict(data_train), y_train, 'nn')\n",
    "nn_performance_4.compute_measures()\n",
    "nn_performance_4.performance_measures['set'] = 'train'\n",
    "print('TRAINING SET: ')\n",
    "print(nn_performance_4.performance_measures)\n",
    "\n",
    "nn_performance_test_4 = BinaryClassificationPerformance(nn.predict(data_test), y_test, 'nn_test')\n",
    "nn_performance_test_4.compute_measures()\n",
    "nn_performance_test_4.performance_measures['set'] = 'test'\n",
    "print('TEST SET: ')\n",
    "print(nn_performance_test_4.performance_measures)\n",
    "\n",
    "nn_performance_test_4.img_indices()\n",
    "nn_img_indices_to_view_4 = nn_performance_test_4.image_indices"
   ]
  },
  {
   "cell_type": "code",
   "execution_count": 163,
   "metadata": {},
   "outputs": [
    {
     "name": "stdout",
     "output_type": "stream",
     "text": [
      "MLPClassifier(hidden_layer_sizes=(10, 10, 10), max_iter=1000)\n",
      "TRAINING SET: \n",
      "{'Pos': 82, 'Neg': 4986, 'TP': 52, 'TN': 4986, 'FP': 0, 'FN': 30, 'Accuracy': 0.9940805051302289, 'Precision': 1.0, 'Recall': 0.6341463414634146, 'desc': 'nn', 'set': 'train'}\n",
      "TEST SET: \n",
      "{'Pos': 19, 'Neg': 1671, 'TP': 9, 'TN': 1670, 'FP': 1, 'FN': 10, 'Accuracy': 0.993491124260355, 'Precision': 0.9, 'Recall': 0.47368421052631576, 'desc': 'nn_test', 'set': 'test'}\n"
     ]
    }
   ],
   "source": [
    "# MODEL: Multi-layer Perceptron aka neural network\n",
    "from sklearn import neural_network\n",
    "nn = neural_network.MLPClassifier(hidden_layer_sizes=(10,10,10,), max_iter=1000)\n",
    "\n",
    "print(nn)\n",
    "nn.fit(data_train, y_train)\n",
    "\n",
    "\n",
    "nn_performance_4 = BinaryClassificationPerformance(nn.predict(data_train), y_train, 'nn')\n",
    "nn_performance_4.compute_measures()\n",
    "nn_performance_4.performance_measures['set'] = 'train'\n",
    "print('TRAINING SET: ')\n",
    "print(nn_performance_4.performance_measures)\n",
    "\n",
    "nn_performance_test_4 = BinaryClassificationPerformance(nn.predict(data_test), y_test, 'nn_test')\n",
    "nn_performance_test_4.compute_measures()\n",
    "nn_performance_test_4.performance_measures['set'] = 'test'\n",
    "print('TEST SET: ')\n",
    "print(nn_performance_test_4.performance_measures)\n",
    "\n",
    "nn_performance_test_4.img_indices()\n",
    "nn_img_indices_to_view_4 = nn_performance_test_4.image_indices"
   ]
  },
  {
   "cell_type": "code",
   "execution_count": 164,
   "metadata": {},
   "outputs": [
    {
     "name": "stdout",
     "output_type": "stream",
     "text": [
      "MLPClassifier(hidden_layer_sizes=(100, 100), max_iter=1000)\n",
      "TRAINING SET: \n",
      "{'Pos': 82, 'Neg': 4986, 'TP': 51, 'TN': 4986, 'FP': 0, 'FN': 31, 'Accuracy': 0.9938831886345698, 'Precision': 1.0, 'Recall': 0.6219512195121951, 'desc': 'nn', 'set': 'train'}\n",
      "TEST SET: \n",
      "{'Pos': 19, 'Neg': 1671, 'TP': 12, 'TN': 1670, 'FP': 1, 'FN': 7, 'Accuracy': 0.9952662721893492, 'Precision': 0.9230769230769231, 'Recall': 0.631578947368421, 'desc': 'nn_test', 'set': 'test'}\n"
     ]
    }
   ],
   "source": [
    "# MODEL: Multi-layer Perceptron aka neural network\n",
    "from sklearn import neural_network\n",
    "nn = neural_network.MLPClassifier(hidden_layer_sizes=(100,100), max_iter=1000)\n",
    "\n",
    "print(nn)\n",
    "nn.fit(data_train, y_train)\n",
    "\n",
    "\n",
    "nn_performance_4 = BinaryClassificationPerformance(nn.predict(data_train), y_train, 'nn')\n",
    "nn_performance_4.compute_measures()\n",
    "nn_performance_4.performance_measures['set'] = 'train'\n",
    "print('TRAINING SET: ')\n",
    "print(nn_performance_4.performance_measures)\n",
    "\n",
    "nn_performance_test_4 = BinaryClassificationPerformance(nn.predict(data_test), y_test, 'nn_test')\n",
    "nn_performance_test_4.compute_measures()\n",
    "nn_performance_test_4.performance_measures['set'] = 'test'\n",
    "print('TEST SET: ')\n",
    "print(nn_performance_test_4.performance_measures)\n",
    "\n",
    "nn_performance_test_4.img_indices()\n",
    "nn_img_indices_to_view_4 = nn_performance_test_4.image_indices"
   ]
  },
  {
   "cell_type": "code",
   "execution_count": 167,
   "metadata": {},
   "outputs": [
    {
     "name": "stdout",
     "output_type": "stream",
     "text": [
      "MLPClassifier(hidden_layer_sizes=(100, 80), max_iter=1000)\n",
      "TRAINING SET: \n",
      "{'Pos': 82, 'Neg': 4986, 'TP': 57, 'TN': 4986, 'FP': 0, 'FN': 25, 'Accuracy': 0.995067087608524, 'Precision': 1.0, 'Recall': 0.6951219512195121, 'desc': 'nn', 'set': 'train'}\n",
      "TEST SET: \n",
      "{'Pos': 19, 'Neg': 1671, 'TP': 12, 'TN': 1669, 'FP': 2, 'FN': 7, 'Accuracy': 0.9946745562130177, 'Precision': 0.8571428571428571, 'Recall': 0.631578947368421, 'desc': 'nn_test', 'set': 'test'}\n"
     ]
    }
   ],
   "source": [
    "# MODEL: Multi-layer Perceptron aka neural network\n",
    "from sklearn import neural_network\n",
    "nn = neural_network.MLPClassifier(hidden_layer_sizes=(100,80), max_iter=1000)\n",
    "\n",
    "print(nn)\n",
    "nn.fit(data_train, y_train)\n",
    "\n",
    "\n",
    "nn_performance_4 = BinaryClassificationPerformance(nn.predict(data_train), y_train, 'nn')\n",
    "nn_performance_4.compute_measures()\n",
    "nn_performance_4.performance_measures['set'] = 'train'\n",
    "print('TRAINING SET: ')\n",
    "print(nn_performance_4.performance_measures)\n",
    "\n",
    "nn_performance_test_4 = BinaryClassificationPerformance(nn.predict(data_test), y_test, 'nn_test')\n",
    "nn_performance_test_4.compute_measures()\n",
    "nn_performance_test_4.performance_measures['set'] = 'test'\n",
    "print('TEST SET: ')\n",
    "print(nn_performance_test_4.performance_measures)\n",
    "\n",
    "nn_performance_test_4.img_indices()\n",
    "nn_img_indices_to_view_4 = nn_performance_test_4.image_indices"
   ]
  },
  {
   "cell_type": "code",
   "execution_count": 168,
   "metadata": {},
   "outputs": [
    {
     "name": "stdout",
     "output_type": "stream",
     "text": [
      "MLPClassifier(hidden_layer_sizes=(80, 80), max_iter=1000)\n",
      "TRAINING SET: \n",
      "{'Pos': 82, 'Neg': 4986, 'TP': 46, 'TN': 4986, 'FP': 0, 'FN': 36, 'Accuracy': 0.9928966061562746, 'Precision': 1.0, 'Recall': 0.5609756097560976, 'desc': 'nn', 'set': 'train'}\n",
      "TEST SET: \n",
      "{'Pos': 19, 'Neg': 1671, 'TP': 8, 'TN': 1669, 'FP': 2, 'FN': 11, 'Accuracy': 0.9923076923076923, 'Precision': 0.8, 'Recall': 0.42105263157894735, 'desc': 'nn_test', 'set': 'test'}\n"
     ]
    }
   ],
   "source": [
    "# MODEL: Multi-layer Perceptron aka neural network\n",
    "from sklearn import neural_network\n",
    "nn = neural_network.MLPClassifier(hidden_layer_sizes=(80,80), max_iter=1000)\n",
    "\n",
    "print(nn)\n",
    "nn.fit(data_train, y_train)\n",
    "\n",
    "\n",
    "nn_performance_4 = BinaryClassificationPerformance(nn.predict(data_train), y_train, 'nn')\n",
    "nn_performance_4.compute_measures()\n",
    "nn_performance_4.performance_measures['set'] = 'train'\n",
    "print('TRAINING SET: ')\n",
    "print(nn_performance_4.performance_measures)\n",
    "\n",
    "nn_performance_test_4 = BinaryClassificationPerformance(nn.predict(data_test), y_test, 'nn_test')\n",
    "nn_performance_test_4.compute_measures()\n",
    "nn_performance_test_4.performance_measures['set'] = 'test'\n",
    "print('TEST SET: ')\n",
    "print(nn_performance_test_4.performance_measures)\n",
    "\n",
    "nn_performance_test_4.img_indices()\n",
    "nn_img_indices_to_view_4 = nn_performance_test_4.image_indices"
   ]
  },
  {
   "cell_type": "code",
   "execution_count": 169,
   "metadata": {},
   "outputs": [
    {
     "name": "stdout",
     "output_type": "stream",
     "text": [
      "MLPClassifier(hidden_layer_sizes=(80, 60), max_iter=1000)\n",
      "TRAINING SET: \n",
      "{'Pos': 82, 'Neg': 4986, 'TP': 58, 'TN': 4986, 'FP': 0, 'FN': 24, 'Accuracy': 0.9952644041041832, 'Precision': 1.0, 'Recall': 0.7073170731707317, 'desc': 'nn', 'set': 'train'}\n",
      "TEST SET: \n",
      "{'Pos': 19, 'Neg': 1671, 'TP': 12, 'TN': 1668, 'FP': 3, 'FN': 7, 'Accuracy': 0.9940828402366864, 'Precision': 0.8, 'Recall': 0.631578947368421, 'desc': 'nn_test', 'set': 'test'}\n"
     ]
    }
   ],
   "source": [
    "# MODEL: Multi-layer Perceptron aka neural network\n",
    "from sklearn import neural_network\n",
    "nn = neural_network.MLPClassifier(hidden_layer_sizes=(80,60), max_iter=1000)\n",
    "\n",
    "print(nn)\n",
    "nn.fit(data_train, y_train)\n",
    "\n",
    "\n",
    "nn_performance_4 = BinaryClassificationPerformance(nn.predict(data_train), y_train, 'nn')\n",
    "nn_performance_4.compute_measures()\n",
    "nn_performance_4.performance_measures['set'] = 'train'\n",
    "print('TRAINING SET: ')\n",
    "print(nn_performance_4.performance_measures)\n",
    "\n",
    "nn_performance_test_4 = BinaryClassificationPerformance(nn.predict(data_test), y_test, 'nn_test')\n",
    "nn_performance_test_4.compute_measures()\n",
    "nn_performance_test_4.performance_measures['set'] = 'test'\n",
    "print('TEST SET: ')\n",
    "print(nn_performance_test_4.performance_measures)\n",
    "\n",
    "nn_performance_test_4.img_indices()\n",
    "nn_img_indices_to_view_4 = nn_performance_test_4.image_indices"
   ]
  },
  {
   "cell_type": "code",
   "execution_count": 170,
   "metadata": {},
   "outputs": [
    {
     "name": "stdout",
     "output_type": "stream",
     "text": [
      "MLPClassifier(hidden_layer_sizes=(60, 60), max_iter=1000)\n",
      "TRAINING SET: \n",
      "{'Pos': 82, 'Neg': 4986, 'TP': 58, 'TN': 4986, 'FP': 0, 'FN': 24, 'Accuracy': 0.9952644041041832, 'Precision': 1.0, 'Recall': 0.7073170731707317, 'desc': 'nn', 'set': 'train'}\n",
      "TEST SET: \n",
      "{'Pos': 19, 'Neg': 1671, 'TP': 11, 'TN': 1670, 'FP': 1, 'FN': 8, 'Accuracy': 0.9946745562130177, 'Precision': 0.9166666666666666, 'Recall': 0.5789473684210527, 'desc': 'nn_test', 'set': 'test'}\n"
     ]
    }
   ],
   "source": [
    "# MODEL: Multi-layer Perceptron aka neural network\n",
    "from sklearn import neural_network\n",
    "nn = neural_network.MLPClassifier(hidden_layer_sizes=(60,60), max_iter=1000)\n",
    "\n",
    "print(nn)\n",
    "nn.fit(data_train, y_train)\n",
    "\n",
    "\n",
    "nn_performance_4 = BinaryClassificationPerformance(nn.predict(data_train), y_train, 'nn')\n",
    "nn_performance_4.compute_measures()\n",
    "nn_performance_4.performance_measures['set'] = 'train'\n",
    "print('TRAINING SET: ')\n",
    "print(nn_performance_4.performance_measures)\n",
    "\n",
    "nn_performance_test_4 = BinaryClassificationPerformance(nn.predict(data_test), y_test, 'nn_test')\n",
    "nn_performance_test_4.compute_measures()\n",
    "nn_performance_test_4.performance_measures['set'] = 'test'\n",
    "print('TEST SET: ')\n",
    "print(nn_performance_test_4.performance_measures)\n",
    "\n",
    "nn_performance_test_4.img_indices()\n",
    "nn_img_indices_to_view_4 = nn_performance_test_4.image_indices"
   ]
  },
  {
   "cell_type": "code",
   "execution_count": 173,
   "metadata": {},
   "outputs": [
    {
     "name": "stdout",
     "output_type": "stream",
     "text": [
      "MLPClassifier(hidden_layer_sizes=(60, 40), max_iter=1000)\n",
      "TRAINING SET: \n",
      "{'Pos': 82, 'Neg': 4986, 'TP': 58, 'TN': 4986, 'FP': 0, 'FN': 24, 'Accuracy': 0.9952644041041832, 'Precision': 1.0, 'Recall': 0.7073170731707317, 'desc': 'nn', 'set': 'train'}\n",
      "TEST SET: \n",
      "{'Pos': 19, 'Neg': 1671, 'TP': 12, 'TN': 1667, 'FP': 4, 'FN': 7, 'Accuracy': 0.993491124260355, 'Precision': 0.75, 'Recall': 0.631578947368421, 'desc': 'nn_test', 'set': 'test'}\n"
     ]
    }
   ],
   "source": [
    "# MODEL: Multi-layer Perceptron aka neural network\n",
    "from sklearn import neural_network\n",
    "nn = neural_network.MLPClassifier(hidden_layer_sizes=(60,40), max_iter=1000)\n",
    "\n",
    "print(nn)\n",
    "nn.fit(data_train, y_train)\n",
    "\n",
    "\n",
    "nn_performance_4 = BinaryClassificationPerformance(nn.predict(data_train), y_train, 'nn')\n",
    "nn_performance_4.compute_measures()\n",
    "nn_performance_4.performance_measures['set'] = 'train'\n",
    "print('TRAINING SET: ')\n",
    "print(nn_performance_4.performance_measures)\n",
    "\n",
    "nn_performance_test_4 = BinaryClassificationPerformance(nn.predict(data_test), y_test, 'nn_test')\n",
    "nn_performance_test_4.compute_measures()\n",
    "nn_performance_test_4.performance_measures['set'] = 'test'\n",
    "print('TEST SET: ')\n",
    "print(nn_performance_test_4.performance_measures)\n",
    "\n",
    "nn_performance_test_4.img_indices()\n",
    "nn_img_indices_to_view_4 = nn_performance_test_4.image_indices"
   ]
  },
  {
   "cell_type": "code",
   "execution_count": 174,
   "metadata": {},
   "outputs": [
    {
     "name": "stdout",
     "output_type": "stream",
     "text": [
      "MLPClassifier(hidden_layer_sizes=(40, 40), max_iter=1000)\n",
      "TRAINING SET: \n",
      "{'Pos': 82, 'Neg': 4986, 'TP': 58, 'TN': 4986, 'FP': 0, 'FN': 24, 'Accuracy': 0.9952644041041832, 'Precision': 1.0, 'Recall': 0.7073170731707317, 'desc': 'nn', 'set': 'train'}\n",
      "TEST SET: \n",
      "{'Pos': 19, 'Neg': 1671, 'TP': 12, 'TN': 1670, 'FP': 1, 'FN': 7, 'Accuracy': 0.9952662721893492, 'Precision': 0.9230769230769231, 'Recall': 0.631578947368421, 'desc': 'nn_test', 'set': 'test'}\n"
     ]
    }
   ],
   "source": [
    "# MODEL: Multi-layer Perceptron aka neural network\n",
    "from sklearn import neural_network\n",
    "nn = neural_network.MLPClassifier(hidden_layer_sizes=(40,40), max_iter=1000)\n",
    "\n",
    "print(nn)\n",
    "nn.fit(data_train, y_train)\n",
    "\n",
    "\n",
    "nn_performance_4 = BinaryClassificationPerformance(nn.predict(data_train), y_train, 'nn')\n",
    "nn_performance_4.compute_measures()\n",
    "nn_performance_4.performance_measures['set'] = 'train'\n",
    "print('TRAINING SET: ')\n",
    "print(nn_performance_4.performance_measures)\n",
    "\n",
    "nn_performance_test_4 = BinaryClassificationPerformance(nn.predict(data_test), y_test, 'nn_test')\n",
    "nn_performance_test_4.compute_measures()\n",
    "nn_performance_test_4.performance_measures['set'] = 'test'\n",
    "print('TEST SET: ')\n",
    "print(nn_performance_test_4.performance_measures)\n",
    "\n",
    "nn_performance_test_4.img_indices()\n",
    "nn_img_indices_to_view_4 = nn_performance_test_4.image_indices"
   ]
  },
  {
   "cell_type": "code",
   "execution_count": 175,
   "metadata": {},
   "outputs": [
    {
     "name": "stdout",
     "output_type": "stream",
     "text": [
      "MLPClassifier(hidden_layer_sizes=(40, 40), max_iter=1000)\n",
      "TRAINING SET: \n",
      "{'Pos': 82, 'Neg': 4986, 'TP': 56, 'TN': 4986, 'FP': 0, 'FN': 26, 'Accuracy': 0.994869771112865, 'Precision': 1.0, 'Recall': 0.6829268292682927, 'desc': 'nn', 'set': 'train'}\n",
      "TEST SET: \n",
      "{'Pos': 19, 'Neg': 1671, 'TP': 11, 'TN': 1670, 'FP': 1, 'FN': 8, 'Accuracy': 0.9946745562130177, 'Precision': 0.9166666666666666, 'Recall': 0.5789473684210527, 'desc': 'nn_test', 'set': 'test'}\n"
     ]
    }
   ],
   "source": [
    "# MODEL: Multi-layer Perceptron aka neural network\n",
    "from sklearn import neural_network\n",
    "nn = neural_network.MLPClassifier(hidden_layer_sizes=(40,20,), max_iter=1000)\n",
    "\n",
    "print(nn)\n",
    "nn.fit(data_train, y_train)\n",
    "\n",
    "\n",
    "nn_performance_4 = BinaryClassificationPerformance(nn.predict(data_train), y_train, 'nn')\n",
    "nn_performance_4.compute_measures()\n",
    "nn_performance_4.performance_measures['set'] = 'train'\n",
    "print('TRAINING SET: ')\n",
    "print(nn_performance_4.performance_measures)\n",
    "\n",
    "nn_performance_test_4 = BinaryClassificationPerformance(nn.predict(data_test), y_test, 'nn_test')\n",
    "nn_performance_test_4.compute_measures()\n",
    "nn_performance_test_4.performance_measures['set'] = 'test'\n",
    "print('TEST SET: ')\n",
    "print(nn_performance_test_4.performance_measures)\n",
    "\n",
    "nn_performance_test_4.img_indices()\n",
    "nn_img_indices_to_view_4 = nn_performance_test_4.image_indices"
   ]
  },
  {
   "cell_type": "code",
   "execution_count": 177,
   "metadata": {},
   "outputs": [
    {
     "name": "stdout",
     "output_type": "stream",
     "text": [
      "MLPClassifier(hidden_layer_sizes=(20, 20), max_iter=1000)\n",
      "TRAINING SET: \n",
      "{'Pos': 82, 'Neg': 4986, 'TP': 48, 'TN': 4986, 'FP': 0, 'FN': 34, 'Accuracy': 0.9932912391475928, 'Precision': 1.0, 'Recall': 0.5853658536585366, 'desc': 'nn', 'set': 'train'}\n",
      "TEST SET: \n",
      "{'Pos': 19, 'Neg': 1671, 'TP': 10, 'TN': 1669, 'FP': 2, 'FN': 9, 'Accuracy': 0.993491124260355, 'Precision': 0.8333333333333334, 'Recall': 0.5263157894736842, 'desc': 'nn_test', 'set': 'test'}\n"
     ]
    }
   ],
   "source": [
    "# MODEL: Multi-layer Perceptron aka neural network\n",
    "from sklearn import neural_network\n",
    "nn = neural_network.MLPClassifier(hidden_layer_sizes=(20,20), max_iter=1000)\n",
    "\n",
    "print(nn)\n",
    "nn.fit(data_train, y_train)\n",
    "\n",
    "\n",
    "nn_performance_4 = BinaryClassificationPerformance(nn.predict(data_train), y_train, 'nn')\n",
    "nn_performance_4.compute_measures()\n",
    "nn_performance_4.performance_measures['set'] = 'train'\n",
    "print('TRAINING SET: ')\n",
    "print(nn_performance_4.performance_measures)\n",
    "\n",
    "nn_performance_test_4 = BinaryClassificationPerformance(nn.predict(data_test), y_test, 'nn_test')\n",
    "nn_performance_test_4.compute_measures()\n",
    "nn_performance_test_4.performance_measures['set'] = 'test'\n",
    "print('TEST SET: ')\n",
    "print(nn_performance_test_4.performance_measures)\n",
    "\n",
    "nn_performance_test_4.img_indices()\n",
    "nn_img_indices_to_view_4 = nn_performance_test_4.image_indices"
   ]
  },
  {
   "cell_type": "code",
   "execution_count": 178,
   "metadata": {},
   "outputs": [
    {
     "name": "stdout",
     "output_type": "stream",
     "text": [
      "MLPClassifier(hidden_layer_sizes=(20, 10), max_iter=1000)\n",
      "TRAINING SET: \n",
      "{'Pos': 82, 'Neg': 4986, 'TP': 57, 'TN': 4985, 'FP': 1, 'FN': 25, 'Accuracy': 0.994869771112865, 'Precision': 0.9827586206896551, 'Recall': 0.6951219512195121, 'desc': 'nn', 'set': 'train'}\n",
      "TEST SET: \n",
      "{'Pos': 19, 'Neg': 1671, 'TP': 13, 'TN': 1666, 'FP': 5, 'FN': 6, 'Accuracy': 0.993491124260355, 'Precision': 0.7222222222222222, 'Recall': 0.6842105263157895, 'desc': 'nn_test', 'set': 'test'}\n"
     ]
    }
   ],
   "source": [
    "# MODEL: Multi-layer Perceptron aka neural network\n",
    "from sklearn import neural_network\n",
    "nn = neural_network.MLPClassifier(hidden_layer_sizes=(20,10), max_iter=1000)\n",
    "\n",
    "print(nn)\n",
    "nn.fit(data_train, y_train)\n",
    "\n",
    "\n",
    "nn_performance_4 = BinaryClassificationPerformance(nn.predict(data_train), y_train, 'nn')\n",
    "nn_performance_4.compute_measures()\n",
    "nn_performance_4.performance_measures['set'] = 'train'\n",
    "print('TRAINING SET: ')\n",
    "print(nn_performance_4.performance_measures)\n",
    "\n",
    "nn_performance_test_4 = BinaryClassificationPerformance(nn.predict(data_test), y_test, 'nn_test')\n",
    "nn_performance_test_4.compute_measures()\n",
    "nn_performance_test_4.performance_measures['set'] = 'test'\n",
    "print('TEST SET: ')\n",
    "print(nn_performance_test_4.performance_measures)\n",
    "\n",
    "nn_performance_test_4.img_indices()\n",
    "nn_img_indices_to_view_4 = nn_performance_test_4.image_indices"
   ]
  },
  {
   "cell_type": "code",
   "execution_count": 180,
   "metadata": {},
   "outputs": [
    {
     "name": "stdout",
     "output_type": "stream",
     "text": [
      "MLPClassifier(hidden_layer_sizes=(10, 10), max_iter=1000)\n",
      "TRAINING SET: \n",
      "{'Pos': 82, 'Neg': 4986, 'TP': 56, 'TN': 4986, 'FP': 0, 'FN': 26, 'Accuracy': 0.994869771112865, 'Precision': 1.0, 'Recall': 0.6829268292682927, 'desc': 'nn', 'set': 'train'}\n",
      "TEST SET: \n",
      "{'Pos': 19, 'Neg': 1671, 'TP': 8, 'TN': 1671, 'FP': 0, 'FN': 11, 'Accuracy': 0.993491124260355, 'Precision': 1.0, 'Recall': 0.42105263157894735, 'desc': 'nn_test', 'set': 'test'}\n"
     ]
    }
   ],
   "source": [
    "# MODEL: Multi-layer Perceptron aka neural network\n",
    "from sklearn import neural_network\n",
    "nn = neural_network.MLPClassifier(hidden_layer_sizes=(10,10), max_iter=1000)\n",
    "\n",
    "print(nn)\n",
    "nn.fit(data_train, y_train)\n",
    "\n",
    "\n",
    "nn_performance_4 = BinaryClassificationPerformance(nn.predict(data_train), y_train, 'nn')\n",
    "nn_performance_4.compute_measures()\n",
    "nn_performance_4.performance_measures['set'] = 'train'\n",
    "print('TRAINING SET: ')\n",
    "print(nn_performance_4.performance_measures)\n",
    "\n",
    "nn_performance_test_4 = BinaryClassificationPerformance(nn.predict(data_test), y_test, 'nn_test')\n",
    "nn_performance_test_4.compute_measures()\n",
    "nn_performance_test_4.performance_measures['set'] = 'test'\n",
    "print('TEST SET: ')\n",
    "print(nn_performance_test_4.performance_measures)\n",
    "\n",
    "nn_performance_test_4.img_indices()\n",
    "nn_img_indices_to_view_4 = nn_performance_test_4.image_indices"
   ]
  },
  {
   "cell_type": "code",
   "execution_count": 181,
   "metadata": {},
   "outputs": [
    {
     "name": "stdout",
     "output_type": "stream",
     "text": [
      "MLPClassifier(hidden_layer_sizes=100, max_iter=1000)\n",
      "TRAINING SET: \n",
      "{'Pos': 82, 'Neg': 4986, 'TP': 58, 'TN': 4986, 'FP': 0, 'FN': 24, 'Accuracy': 0.9952644041041832, 'Precision': 1.0, 'Recall': 0.7073170731707317, 'desc': 'nn', 'set': 'train'}\n",
      "TEST SET: \n",
      "{'Pos': 19, 'Neg': 1671, 'TP': 12, 'TN': 1667, 'FP': 4, 'FN': 7, 'Accuracy': 0.993491124260355, 'Precision': 0.75, 'Recall': 0.631578947368421, 'desc': 'nn_test', 'set': 'test'}\n"
     ]
    }
   ],
   "source": [
    "# MODEL: Multi-layer Perceptron aka neural network\n",
    "from sklearn import neural_network\n",
    "nn = neural_network.MLPClassifier(hidden_layer_sizes=(100), max_iter=1000)\n",
    "\n",
    "print(nn)\n",
    "nn.fit(data_train, y_train)\n",
    "\n",
    "\n",
    "nn_performance_4 = BinaryClassificationPerformance(nn.predict(data_train), y_train, 'nn')\n",
    "nn_performance_4.compute_measures()\n",
    "nn_performance_4.performance_measures['set'] = 'train'\n",
    "print('TRAINING SET: ')\n",
    "print(nn_performance_4.performance_measures)\n",
    "\n",
    "nn_performance_test_4 = BinaryClassificationPerformance(nn.predict(data_test), y_test, 'nn_test')\n",
    "nn_performance_test_4.compute_measures()\n",
    "nn_performance_test_4.performance_measures['set'] = 'test'\n",
    "print('TEST SET: ')\n",
    "print(nn_performance_test_4.performance_measures)\n",
    "\n",
    "nn_performance_test_4.img_indices()\n",
    "nn_img_indices_to_view_4 = nn_performance_test_4.image_indices"
   ]
  },
  {
   "cell_type": "code",
   "execution_count": 182,
   "metadata": {},
   "outputs": [
    {
     "name": "stdout",
     "output_type": "stream",
     "text": [
      "MLPClassifier(hidden_layer_sizes=80, max_iter=1000)\n",
      "TRAINING SET: \n",
      "{'Pos': 82, 'Neg': 4986, 'TP': 57, 'TN': 4986, 'FP': 0, 'FN': 25, 'Accuracy': 0.995067087608524, 'Precision': 1.0, 'Recall': 0.6951219512195121, 'desc': 'nn', 'set': 'train'}\n",
      "TEST SET: \n",
      "{'Pos': 19, 'Neg': 1671, 'TP': 12, 'TN': 1669, 'FP': 2, 'FN': 7, 'Accuracy': 0.9946745562130177, 'Precision': 0.8571428571428571, 'Recall': 0.631578947368421, 'desc': 'nn_test', 'set': 'test'}\n"
     ]
    }
   ],
   "source": [
    "# MODEL: Multi-layer Perceptron aka neural network\n",
    "from sklearn import neural_network\n",
    "nn = neural_network.MLPClassifier(hidden_layer_sizes=(80), max_iter=1000)\n",
    "\n",
    "print(nn)\n",
    "nn.fit(data_train, y_train)\n",
    "\n",
    "\n",
    "nn_performance_4 = BinaryClassificationPerformance(nn.predict(data_train), y_train, 'nn')\n",
    "nn_performance_4.compute_measures()\n",
    "nn_performance_4.performance_measures['set'] = 'train'\n",
    "print('TRAINING SET: ')\n",
    "print(nn_performance_4.performance_measures)\n",
    "\n",
    "nn_performance_test_4 = BinaryClassificationPerformance(nn.predict(data_test), y_test, 'nn_test')\n",
    "nn_performance_test_4.compute_measures()\n",
    "nn_performance_test_4.performance_measures['set'] = 'test'\n",
    "print('TEST SET: ')\n",
    "print(nn_performance_test_4.performance_measures)\n",
    "\n",
    "nn_performance_test_4.img_indices()\n",
    "nn_img_indices_to_view_4 = nn_performance_test_4.image_indices"
   ]
  },
  {
   "cell_type": "code",
   "execution_count": 183,
   "metadata": {},
   "outputs": [
    {
     "name": "stdout",
     "output_type": "stream",
     "text": [
      "MLPClassifier(hidden_layer_sizes=60, max_iter=1000)\n",
      "TRAINING SET: \n",
      "{'Pos': 82, 'Neg': 4986, 'TP': 58, 'TN': 4986, 'FP': 0, 'FN': 24, 'Accuracy': 0.9952644041041832, 'Precision': 1.0, 'Recall': 0.7073170731707317, 'desc': 'nn', 'set': 'train'}\n",
      "TEST SET: \n",
      "{'Pos': 19, 'Neg': 1671, 'TP': 11, 'TN': 1668, 'FP': 3, 'FN': 8, 'Accuracy': 0.993491124260355, 'Precision': 0.7857142857142857, 'Recall': 0.5789473684210527, 'desc': 'nn_test', 'set': 'test'}\n"
     ]
    }
   ],
   "source": [
    "# MODEL: Multi-layer Perceptron aka neural network\n",
    "from sklearn import neural_network\n",
    "nn = neural_network.MLPClassifier(hidden_layer_sizes=(60), max_iter=1000)\n",
    "\n",
    "print(nn)\n",
    "nn.fit(data_train, y_train)\n",
    "\n",
    "\n",
    "nn_performance_4 = BinaryClassificationPerformance(nn.predict(data_train), y_train, 'nn')\n",
    "nn_performance_4.compute_measures()\n",
    "nn_performance_4.performance_measures['set'] = 'train'\n",
    "print('TRAINING SET: ')\n",
    "print(nn_performance_4.performance_measures)\n",
    "\n",
    "nn_performance_test_4 = BinaryClassificationPerformance(nn.predict(data_test), y_test, 'nn_test')\n",
    "nn_performance_test_4.compute_measures()\n",
    "nn_performance_test_4.performance_measures['set'] = 'test'\n",
    "print('TEST SET: ')\n",
    "print(nn_performance_test_4.performance_measures)\n",
    "\n",
    "nn_performance_test_4.img_indices()\n",
    "nn_img_indices_to_view_4 = nn_performance_test_4.image_indices"
   ]
  },
  {
   "cell_type": "code",
   "execution_count": 184,
   "metadata": {},
   "outputs": [
    {
     "name": "stdout",
     "output_type": "stream",
     "text": [
      "MLPClassifier(hidden_layer_sizes=40, max_iter=1000)\n",
      "TRAINING SET: \n",
      "{'Pos': 82, 'Neg': 4986, 'TP': 51, 'TN': 4986, 'FP': 0, 'FN': 31, 'Accuracy': 0.9938831886345698, 'Precision': 1.0, 'Recall': 0.6219512195121951, 'desc': 'nn', 'set': 'train'}\n",
      "TEST SET: \n",
      "{'Pos': 19, 'Neg': 1671, 'TP': 9, 'TN': 1670, 'FP': 1, 'FN': 10, 'Accuracy': 0.993491124260355, 'Precision': 0.9, 'Recall': 0.47368421052631576, 'desc': 'nn_test', 'set': 'test'}\n"
     ]
    }
   ],
   "source": [
    "# MODEL: Multi-layer Perceptron aka neural network\n",
    "from sklearn import neural_network\n",
    "nn = neural_network.MLPClassifier(hidden_layer_sizes=(40), max_iter=1000)\n",
    "\n",
    "print(nn)\n",
    "nn.fit(data_train, y_train)\n",
    "\n",
    "\n",
    "nn_performance_4 = BinaryClassificationPerformance(nn.predict(data_train), y_train, 'nn')\n",
    "nn_performance_4.compute_measures()\n",
    "nn_performance_4.performance_measures['set'] = 'train'\n",
    "print('TRAINING SET: ')\n",
    "print(nn_performance_4.performance_measures)\n",
    "\n",
    "nn_performance_test_4 = BinaryClassificationPerformance(nn.predict(data_test), y_test, 'nn_test')\n",
    "nn_performance_test_4.compute_measures()\n",
    "nn_performance_test_4.performance_measures['set'] = 'test'\n",
    "print('TEST SET: ')\n",
    "print(nn_performance_test_4.performance_measures)\n",
    "\n",
    "nn_performance_test_4.img_indices()\n",
    "nn_img_indices_to_view_4 = nn_performance_test_4.image_indices"
   ]
  },
  {
   "cell_type": "code",
   "execution_count": 185,
   "metadata": {},
   "outputs": [
    {
     "name": "stdout",
     "output_type": "stream",
     "text": [
      "MLPClassifier(hidden_layer_sizes=20, max_iter=1000)\n",
      "TRAINING SET: \n",
      "{'Pos': 82, 'Neg': 4986, 'TP': 48, 'TN': 4986, 'FP': 0, 'FN': 34, 'Accuracy': 0.9932912391475928, 'Precision': 1.0, 'Recall': 0.5853658536585366, 'desc': 'nn', 'set': 'train'}\n",
      "TEST SET: \n",
      "{'Pos': 19, 'Neg': 1671, 'TP': 9, 'TN': 1670, 'FP': 1, 'FN': 10, 'Accuracy': 0.993491124260355, 'Precision': 0.9, 'Recall': 0.47368421052631576, 'desc': 'nn_test', 'set': 'test'}\n"
     ]
    }
   ],
   "source": [
    "# MODEL: Multi-layer Perceptron aka neural network\n",
    "from sklearn import neural_network\n",
    "nn = neural_network.MLPClassifier(hidden_layer_sizes=(20), max_iter=1000)\n",
    "\n",
    "print(nn)\n",
    "nn.fit(data_train, y_train)\n",
    "\n",
    "\n",
    "nn_performance_4 = BinaryClassificationPerformance(nn.predict(data_train), y_train, 'nn')\n",
    "nn_performance_4.compute_measures()\n",
    "nn_performance_4.performance_measures['set'] = 'train'\n",
    "print('TRAINING SET: ')\n",
    "print(nn_performance_4.performance_measures)\n",
    "\n",
    "nn_performance_test_4 = BinaryClassificationPerformance(nn.predict(data_test), y_test, 'nn_test')\n",
    "nn_performance_test_4.compute_measures()\n",
    "nn_performance_test_4.performance_measures['set'] = 'test'\n",
    "print('TEST SET: ')\n",
    "print(nn_performance_test_4.performance_measures)\n",
    "\n",
    "nn_performance_test_4.img_indices()\n",
    "nn_img_indices_to_view_4 = nn_performance_test_4.image_indices"
   ]
  },
  {
   "cell_type": "code",
   "execution_count": 186,
   "metadata": {},
   "outputs": [
    {
     "name": "stdout",
     "output_type": "stream",
     "text": [
      "MLPClassifier(hidden_layer_sizes=10, max_iter=1000)\n",
      "TRAINING SET: \n",
      "{'Pos': 82, 'Neg': 4986, 'TP': 53, 'TN': 4986, 'FP': 0, 'FN': 29, 'Accuracy': 0.994277821625888, 'Precision': 1.0, 'Recall': 0.6463414634146342, 'desc': 'nn', 'set': 'train'}\n",
      "TEST SET: \n",
      "{'Pos': 19, 'Neg': 1671, 'TP': 7, 'TN': 1665, 'FP': 6, 'FN': 12, 'Accuracy': 0.9893491124260355, 'Precision': 0.5384615384615384, 'Recall': 0.3684210526315789, 'desc': 'nn_test', 'set': 'test'}\n"
     ]
    }
   ],
   "source": [
    "# MODEL: Multi-layer Perceptron aka neural network\n",
    "from sklearn import neural_network\n",
    "nn = neural_network.MLPClassifier(hidden_layer_sizes=(10), max_iter=1000)\n",
    "\n",
    "print(nn)\n",
    "nn.fit(data_train, y_train)\n",
    "\n",
    "\n",
    "nn_performance_4 = BinaryClassificationPerformance(nn.predict(data_train), y_train, 'nn')\n",
    "nn_performance_4.compute_measures()\n",
    "nn_performance_4.performance_measures['set'] = 'train'\n",
    "print('TRAINING SET: ')\n",
    "print(nn_performance_4.performance_measures)\n",
    "\n",
    "nn_performance_test_4 = BinaryClassificationPerformance(nn.predict(data_test), y_test, 'nn_test')\n",
    "nn_performance_test_4.compute_measures()\n",
    "nn_performance_test_4.performance_measures['set'] = 'test'\n",
    "print('TEST SET: ')\n",
    "print(nn_performance_test_4.performance_measures)\n",
    "\n",
    "nn_performance_test_4.img_indices()\n",
    "nn_img_indices_to_view_4 = nn_performance_test_4.image_indices"
   ]
  },
  {
   "cell_type": "code",
   "execution_count": null,
   "metadata": {},
   "outputs": [],
   "source": []
  }
 ],
 "metadata": {
  "kernelspec": {
   "display_name": "Python 3",
   "language": "python",
   "name": "python3"
  },
  "language_info": {
   "codemirror_mode": {
    "name": "ipython",
    "version": 3
   },
   "file_extension": ".py",
   "mimetype": "text/x-python",
   "name": "python",
   "nbconvert_exporter": "python",
   "pygments_lexer": "ipython3",
   "version": "3.8.3"
  }
 },
 "nbformat": 4,
 "nbformat_minor": 4
}
